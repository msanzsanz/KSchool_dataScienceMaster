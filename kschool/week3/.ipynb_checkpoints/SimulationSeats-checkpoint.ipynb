{
 "cells": [
  {
   "cell_type": "markdown",
   "metadata": {},
   "source": [
    "# Description of the experiment\n",
    "\n",
    ">\n",
    ">\n",
    "> En el aula tenemos 15 sitios nada más. Cada persona tiene asignado un sitio. La primera en llegar es siempre Isabel, y el último en llegar es siempre Ramón. Cuando Isabel llega, se sienta donde le parece mejor, que puede ser su sitio o no. Cada nueva persona que llega intenta sentarse en su sitio correspondiente; pero si resulta que alguien lo ha ocupado, entonces se sienta en cualquier asiento libre que haya. Cuál es la probabilidad de que Ramón se siente en su sitio? Y si tenemos un aula con 100 personas y sitios, cambia la probabilidad?\n",
    ">\n",
    ">\n",
    ">Cada vez que se llena el aula es una tirada. La probabilidad puntual hay que estimarla usando 100 tiradas. Estas 100 tiradas configuran un experimento, y darán una probabilidad estimada dividiendo el número de veces que Ramón se ha sentado en su sitio, dividido por 100.\n",
    ">\n",
    ">\n",
    ">Para comprobar si la probabilidad es estable o no, repetiremos el experimento 200 veces. Después obtendremos una estimación de la función de densidad de la probabilidad\n",
    ">"
   ]
  },
  {
   "cell_type": "code",
   "execution_count": 157,
   "metadata": {},
   "outputs": [],
   "source": [
    "# Import required libraries\n",
    "import random\n",
    "import seaborn as sns"
   ]
  },
  {
   "cell_type": "code",
   "execution_count": 158,
   "metadata": {},
   "outputs": [],
   "source": [
    "##########################################################################\n",
    "#\n",
    "# selectPlacesOnDay1: The first day, each student picks up one free desktop \n",
    "#\n",
    "##########################################################################\n",
    "def selectPlacesOnDay1 (numStudents):\n",
    "\n",
    "    # There are as many desktops as students\n",
    "    freeDesktops = list(range(1,numStudents+1))\n",
    "    studentsDesktops = {}\n",
    "    \n",
    "    # The first day, each student picks up one free desktop\n",
    "    i = 1\n",
    "    while i <= numStudents:\n",
    "        freeSeat = random.choice(freeDesktops)\n",
    "        studentsDesktops[i] = freeSeat\n",
    "        freeDesktops.remove(freeSeat)\n",
    "        i = i+1\n",
    "        \n",
    "    return studentsDesktops\n",
    "\n",
    "##########################################################################\n",
    "#\n",
    "# isLastStudentDesktopFree: function to compute whether the desktop for the last student is free\n",
    "#\n",
    "##########################################################################\n",
    "def isLastStudentDesktopFree (studentsDesktops):\n",
    "    \n",
    "    desktopsToday = {}\n",
    "    numStudents = len(studentsDesktops)\n",
    "    \n",
    "    freeDesktops = list(range(1,numStudents+1))\n",
    "    \n",
    "    # The first student decides whether to seat at her place or not\n",
    "    choiceFromFirstStudent = random.choice(freeDesktops)\n",
    "    \n",
    "    studentsToCome = list(range(2,numStudents))\n",
    "    desktopsToday[1] = choiceFromFirstStudent\n",
    "    freeDesktops.remove(choiceFromFirstStudent)\n",
    "    \n",
    "    for i in range(numStudents-2):\n",
    "        # Then, the rest of the students try to seat at the same place as the first day\n",
    "        nextStudent = random.choice(studentsToCome)\n",
    "        studentsToCome.remove(nextStudent)\n",
    "\n",
    "        # If the preferred desktop is free, the student seats there\n",
    "        if studentsDesktops[nextStudent] in freeDesktops:\n",
    "            choice = studentsDesktops[nextStudent]\n",
    "\n",
    "        else:\n",
    "            choice = random.choice(freeDesktops)\n",
    "\n",
    "        desktopsToday[nextStudent] = choice    \n",
    "        freeDesktops.remove(choice)\n",
    "    \n",
    "        \n",
    "    # Then, the last student arrives\n",
    "    choice = random.choice(freeDesktops)\n",
    "    desktopsToday[numStudents] = choice    \n",
    "    freeDesktops.remove(choice)\n",
    "    \n",
    "    assert (len(freeDesktops) == 0 )\n",
    "    \n",
    "    if (desktopsToday[numStudents] == studentsDesktops[numStudents]):\n",
    "        return True\n",
    "    else:\n",
    "        return False        \n",
    "    \n",
    "\n",
    "##########################################################################\n",
    "#\n",
    "# EXPERIMENT\n",
    "#\n",
    "##########################################################################\n",
    "def experiment (numSimulations, numStudents):\n",
    "    \n",
    "    studentsDesktops = selectPlacesOnDay1(numStudents)\n",
    "    \n",
    "    numTimesIsFree = 0\n",
    "    \n",
    "    for i in range(numSimulations):\n",
    "        isFree = isLastStudentDesktopFree(studentsDesktops)\n",
    "        if isFree:\n",
    "            numTimesIsFree += 1\n",
    "    \n",
    "    return numTimesIsFree / numSimulations\n",
    "\n",
    "    "
   ]
  },
  {
   "cell_type": "code",
   "execution_count": 159,
   "metadata": {},
   "outputs": [
    {
     "data": {
      "text/plain": [
       "0.48"
      ]
     },
     "execution_count": 159,
     "metadata": {},
     "output_type": "execute_result"
    }
   ],
   "source": [
    "# Let's see one outcome when the room has 15 desktops\n",
    "experiment (100, 15)"
   ]
  },
  {
   "cell_type": "code",
   "execution_count": 160,
   "metadata": {},
   "outputs": [],
   "source": [
    "experiments_15 = [experiment(100, 15) for i in range(200)]"
   ]
  },
  {
   "cell_type": "code",
   "execution_count": 161,
   "metadata": {},
   "outputs": [
    {
     "name": "stderr",
     "output_type": "stream",
     "text": [
      "/home/dsc/anaconda3/lib/python3.6/site-packages/matplotlib/axes/_axes.py:6448: UserWarning: The 'normed' kwarg is deprecated, and has been replaced by the 'density' kwarg.\n",
      "  warnings.warn(\"The 'normed' kwarg is deprecated, and has been \"\n"
     ]
    },
    {
     "data": {
      "image/png": "[encoded data removed]",
      "text/plain": [
       "<Figure size 432x288 with 1 Axes>"
      ]
     },
     "metadata": {},
     "output_type": "display_data"
    }
   ],
   "source": [
    "sns.distplot(experiments_15);"
   ]
  },
  {
   "cell_type": "code",
   "execution_count": 162,
   "metadata": {},
   "outputs": [
    {
     "data": {
      "text/plain": [
       "0.56"
      ]
     },
     "execution_count": 162,
     "metadata": {},
     "output_type": "execute_result"
    }
   ],
   "source": [
    "# Let's see outcomes when the room has 100 desktops\n",
    "experiment (100, 100)"
   ]
  },
  {
   "cell_type": "code",
   "execution_count": 163,
   "metadata": {},
   "outputs": [
    {
     "name": "stderr",
     "output_type": "stream",
     "text": [
      "/home/dsc/anaconda3/lib/python3.6/site-packages/matplotlib/axes/_axes.py:6448: UserWarning: The 'normed' kwarg is deprecated, and has been replaced by the 'density' kwarg.\n",
      "  warnings.warn(\"The 'normed' kwarg is deprecated, and has been \"\n"
     ]
    },
    {
     "data": {
      "image/png": "[encoded data removed]",
      "text/plain": [
       "<Figure size 432x288 with 1 Axes>"
      ]
     },
     "metadata": {},
     "output_type": "display_data"
    }
   ],
   "source": [
    "experiments_100 = [experiment(100, 100) for i in range(200)]\n",
    "sns.distplot(experiments_15);sns.distplot(experiments_100);"
   ]
  },
  {
   "cell_type": "code",
   "execution_count": null,
   "metadata": {},
   "outputs": [],
   "source": []
  }
 ],
 "metadata": {
  "kernelspec": {
   "display_name": "Python 3",
   "language": "python",
   "name": "python3"
  },
  "language_info": {
   "codemirror_mode": {
    "name": "ipython",
    "version": 3
   },
   "file_extension": ".py",
   "mimetype": "text/x-python",
   "name": "python",
   "nbconvert_exporter": "python",
   "pygments_lexer": "ipython3",
   "version": "3.6.4"
  }
 },
 "nbformat": 4,
 "nbformat_minor": 2
}
