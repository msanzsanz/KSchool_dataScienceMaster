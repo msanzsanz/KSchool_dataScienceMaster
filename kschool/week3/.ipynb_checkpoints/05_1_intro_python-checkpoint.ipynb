{
 "cells": [
  {
   "cell_type": "markdown",
   "metadata": {},
   "source": [
    "# Introduction to Python and Jupyter notebooks\n",
    "\n",
    "Python is a general purpose programming language, very popular for data science thanks to the myriad of libraries and tools that provides.\n",
    "\n",
    "See https://www.python.org/ and https://en.wikipedia.org/wiki/Python_(programming_language)"
   ]
  },
  {
   "cell_type": "markdown",
   "metadata": {},
   "source": [
    "Python can be used from the command line, with a REPL. But we will use it through notebooks\n",
    "\n",
    "* What is a REPL? What does the REPL acronmy stands for? (try to find it out using Google)\n",
    "\n",
    "Python uses spaces or tabs for code blocks. **By convention, we will use 4 spaces for blocks** (this is the default in Jupyter).\n",
    "\n",
    "The Python language design is distinguished by its emphasis on readability, simplicity, and explicitness. \n",
    "Some people go so far as to liken it to “executable pseudocode”.\n",
    "\n",
    "Python uses whitespace (tabs or spaces) to structure code instead of using braces as in many other languages\n",
    "A colon denotes the start of an indented code block after which all of the code must be indented by the same amount until the end of the block.\n",
    "\n",
    "One major reason that whitespace matters is that it results in most Python code looking cosmetically similar, which means less cognitive dissonance when you read a piece of code that you didn’t write yourself (or wrote in a hurry a year ago!)."
   ]
  },
  {
   "cell_type": "code",
   "execution_count": 5,
   "metadata": {},
   "outputs": [
    {
     "name": "stdout",
     "output_type": "stream",
     "text": [
      "[1, 2, 3]\n",
      "[4, 5, 7, 8, 5]\n"
     ]
    }
   ],
   "source": [
    "array = [4,1,2,3,5,7,8,5]\n",
    "pivot = 4\n",
    "lower = []\n",
    "greater = []\n",
    "for x in array:\n",
    "    if x < pivot:\n",
    "        lower.append(x)\n",
    "    else:\n",
    "        greater.append(x)\n",
    "        \n",
    "print(lower)\n",
    "print(greater)\n"
   ]
  },
  {
   "cell_type": "markdown",
   "metadata": {},
   "source": [
    "Comments"
   ]
  },
  {
   "cell_type": "code",
   "execution_count": 3,
   "metadata": {},
   "outputs": [],
   "source": [
    "# Comments start with ampersand, and can be anywhere\n",
    "a = 4\n",
    "# This line is a comment\n",
    "\n",
    "b = 5  # Inlined comment (2 spaces after code by convention)"
   ]
  },
  {
   "cell_type": "markdown",
   "metadata": {},
   "source": [
    "Semicolon"
   ]
  },
  {
   "cell_type": "code",
   "execution_count": 4,
   "metadata": {},
   "outputs": [
    {
     "name": "stdout",
     "output_type": "stream",
     "text": [
      "5\n",
      "6\n",
      "3\n"
     ]
    }
   ],
   "source": [
    "# Several commands in the same line\n",
    "a = 5; b = 6; c =3\n",
    "\n",
    "print(a)\n",
    "print(b)\n",
    "print(c) "
   ]
  },
  {
   "cell_type": "markdown",
   "metadata": {},
   "source": [
    "## Everything is an object\n",
    "\n",
    "Every number, string, data structure, function, class, module etc exists in the Python interpreter in its own “box” which is referred to as a Python object.\n",
    "\n",
    "* `type` and `isinstance`"
   ]
  },
  {
   "cell_type": "markdown",
   "metadata": {},
   "source": [
    "Objects have attributes"
   ]
  },
  {
   "cell_type": "code",
   "execution_count": 17,
   "metadata": {},
   "outputs": [
    {
     "data": {
      "text/plain": [
       "True"
      ]
     },
     "execution_count": 17,
     "metadata": {},
     "output_type": "execute_result"
    }
   ],
   "source": [
    "a = \"hello\"\n",
    "b = \"Montse\"\n",
    "# Check . with autocompletion\n",
    "a.isdigit()\n",
    "a.capitalize\n",
    "a > b\n",
    "\n",
    "\n",
    "\n",
    "\n"
   ]
  },
  {
   "cell_type": "code",
   "execution_count": null,
   "metadata": {},
   "outputs": [],
   "source": []
  },
  {
   "cell_type": "code",
   "execution_count": 17,
   "metadata": {
    "collapsed": true
   },
   "outputs": [
    {
     "data": {
      "text/plain": [
       "['__add__',\n",
       " '__class__',\n",
       " '__contains__',\n",
       " '__delattr__',\n",
       " '__dir__',\n",
       " '__doc__',\n",
       " '__eq__',\n",
       " '__format__',\n",
       " '__ge__',\n",
       " '__getattribute__',\n",
       " '__getitem__',\n",
       " '__getnewargs__',\n",
       " '__gt__',\n",
       " '__hash__',\n",
       " '__init__',\n",
       " '__init_subclass__',\n",
       " '__iter__',\n",
       " '__le__',\n",
       " '__len__',\n",
       " '__lt__',\n",
       " '__mod__',\n",
       " '__mul__',\n",
       " '__ne__',\n",
       " '__new__',\n",
       " '__reduce__',\n",
       " '__reduce_ex__',\n",
       " '__repr__',\n",
       " '__rmod__',\n",
       " '__rmul__',\n",
       " '__setattr__',\n",
       " '__sizeof__',\n",
       " '__str__',\n",
       " '__subclasshook__',\n",
       " 'capitalize',\n",
       " 'casefold',\n",
       " 'center',\n",
       " 'count',\n",
       " 'encode',\n",
       " 'endswith',\n",
       " 'expandtabs',\n",
       " 'find',\n",
       " 'format',\n",
       " 'format_map',\n",
       " 'index',\n",
       " 'isalnum',\n",
       " 'isalpha',\n",
       " 'isdecimal',\n",
       " 'isdigit',\n",
       " 'isidentifier',\n",
       " 'islower',\n",
       " 'isnumeric',\n",
       " 'isprintable',\n",
       " 'isspace',\n",
       " 'istitle',\n",
       " 'isupper',\n",
       " 'join',\n",
       " 'ljust',\n",
       " 'lower',\n",
       " 'lstrip',\n",
       " 'maketrans',\n",
       " 'partition',\n",
       " 'replace',\n",
       " 'rfind',\n",
       " 'rindex',\n",
       " 'rjust',\n",
       " 'rpartition',\n",
       " 'rsplit',\n",
       " 'rstrip',\n",
       " 'split',\n",
       " 'splitlines',\n",
       " 'startswith',\n",
       " 'strip',\n",
       " 'swapcase',\n",
       " 'title',\n",
       " 'translate',\n",
       " 'upper',\n",
       " 'zfill']"
      ]
     },
     "execution_count": 17,
     "metadata": {},
     "output_type": "execute_result"
    }
   ],
   "source": [
    "dir(a)  # Output of cell hidden for brevity (click the dots to get the full output)"
   ]
  },
  {
   "cell_type": "markdown",
   "metadata": {},
   "source": [
    "## Strongly typed\n",
    "\n",
    "Strongly typed means that Python will not convert objects under the hood. You must do any necessary conversion yourself"
   ]
  },
  {
   "cell_type": "code",
   "execution_count": 18,
   "metadata": {},
   "outputs": [
    {
     "ename": "TypeError",
     "evalue": "unsupported operand type(s) for +: 'int' and 'str'",
     "output_type": "error",
     "traceback": [
      "\u001b[0;31m---------------------------------------------------------------------------\u001b[0m",
      "\u001b[0;31mTypeError\u001b[0m                                 Traceback (most recent call last)",
      "\u001b[0;32m<ipython-input-18-3e38fac8a3c2>\u001b[0m in \u001b[0;36m<module>\u001b[0;34m()\u001b[0m\n\u001b[0;32m----> 1\u001b[0;31m \u001b[0;36m4\u001b[0m \u001b[0;34m+\u001b[0m \u001b[0;34m\"5\"\u001b[0m\u001b[0;34m\u001b[0m\u001b[0m\n\u001b[0m",
      "\u001b[0;31mTypeError\u001b[0m: unsupported operand type(s) for +: 'int' and 'str'"
     ]
    }
   ],
   "source": [
    "4 + \"5\""
   ]
  },
  {
   "cell_type": "code",
   "execution_count": 19,
   "metadata": {},
   "outputs": [
    {
     "data": {
      "text/plain": [
       "9"
      ]
     },
     "execution_count": 19,
     "metadata": {},
     "output_type": "execute_result"
    }
   ],
   "source": [
    "a = \"5\"\n",
    "4 + int(a)"
   ]
  },
  {
   "cell_type": "markdown",
   "metadata": {},
   "source": [
    "## Main types\n",
    "\n",
    "### Scalars\n",
    "\n",
    "int, long, float\n",
    "\n",
    "str, bool\n",
    "\n",
    "None"
   ]
  },
  {
   "cell_type": "code",
   "execution_count": 20,
   "metadata": {},
   "outputs": [
    {
     "data": {
      "text/plain": [
       "438177063521057719402230751087626903504999891469593779003795843198678960268699266296707431270033526975808700038367059051774264787201279648353761794042852488436345688797703699878419716592240034685509752123127680119291428282353816449122946780066095875988876542672949710061480469626976150448654902453149666325366873591507706534194970552960600409290192961132462278296763089613728644011155761033754586162662605730352169747290508779920869006821484471296136849418837522833367705475501356547578675001800070398218117334860591050647009207786974944953598341608326539433086575814695706603618166919799627593471977994860505884237199050368264321654846635052670034059424302885718422963079566453621762100432225358722548977486461230267188535348069811879606782377030633402259855539965619445820679709271547612150016481040052689624963114580551301535633592272312314557988457311678963209364715846555942430190061623581788333917961843542789624682745400408714102467979662175344036221077076277016490825921592804684950182071162616085947657933883844599827399555442434023642638756892417531949206745712000148941062611213495073458860509670641893189109257739603838837371698006058966016251436203221092804954099218824444609371684120170034899232902578925687778437462056142274120138975962161832955062553902346503659270330317300975631635893687319549409609499873131757311884608007142101798048336480906425266380359754421714635809683920360511613190949052776673806904650637813357692530354624479491855115916002044055451632922186319053196871324002713071132924480382833605428753113379419255796274706832424862103296650339883153768759223311820002855977660445160551662031395656503803585077493961612500857512579444745947331928084685245211134690228959638838266167004460179391335686219641175833128359583927627693473636239268715473375253379356878886324847771847820708944391927780137211283194734304164612638347084469733042657747868300396347774662135306472267295401838494852137985737987492993295753946075338199285902956513956330607771931106397643243364317642306666234370897156725714367692775810855090111017477345993406237028281951856941648786375262225841949048231742621360409322936184292727224914808522554455278583859090860683394290343635582849662131967408316778855030132215430541956161949887893174356466254075316771949415272221795729641886973025262761793278542447976889111992419946967873682657310467399874560511913344592896616040971157739394060894393239373276350747880052688311950568525060774903231356617978645710506366687409035163171642172179474075214299939620788624343121255654959830729263941608255407030751764246148391293963056494628028508372540979207706764856693323490411606021070288230510084942674901384924940327235312816898461505625749834974429547788616349852979228312619852472520163923308241710190443025881528664200486619852281037156462024683966982950638952916016704843297124069035082299319331213708545101073449803447458735207716486173457957601388874354739087123251844456188434021243180465929233749818870244411414128230165250956222542690677948889982270590450375307242066585168947546688930239703714264568496441204524001172639072546153937719465917553663841414999744261361793941238769133055926877340362371030670756989231021400199719330360736637259798294569450063658816701254293904020579703328762256378559881725000051002599800584402180963207691617844411526726893303992191286895042758486932768868632158585400774426602772348054452335744155712185053144449050530193868777844155517870875194441226465790619744695463644242549612087768244491837046927426781279012028962363579977177649610603640111381731138202344503502904737278579809458175619826518570400573253526968426360656759205930367100417569710630474498385463072106350229162620179717859711238125649398423219725421807766797329534422055605615010511143252342134316630449139597104428394156777358408365275564626443241204746267165411498964802787306191878876874438069877334668764381310024962614964125225957006167678218109382834666344415437814746538388870618592850451011345937903919199016141833850754901804002014355336731493019316479069764659726848129002092599591191435807706928098448228939590589697452469254263205966996742755446023209490826734017312407354123288038772251242271963586386974419904991612520181441282457304387511295953061239840520533051011804576455725295244506802795576647301493738190758995001355544456499759344219048351191138687639816596988980569036579871900215063586644054662234144900008429454244342292648472425568160971441084232417512714402236254016345688814024483611317739906333485804298216853259208226585678675143128056828147963789561732836733851161543831885031382015358730808843886713378641413640113008392915761294958727922911236611454801487264160487516299303720982498751586999822627077415207608804434798562669001619136106121168584237211288146499685336312602873797559394114991836996530849716539080293249101806140428574015656384360479253157622114176675235585493804316539223233458773990159171063824360554421223767185862205104889565148522791489178216014575055691379452940237672382799772525868409905401721839534159135056018471302141297344860443860215496283631998392460849938470050154225601400225909440176405460063925478132433181053717474356968170599377643351951178007565548058371088243766351171444050945023974452471300769517724330773750749369952680499244465233679207923871503111169810207782711500665811849686435843203409625446633800983646925022021351115573637249656526313897592201167398982614077078183046570355960015972448565467720604018932446422576351578189826057821320539631938586290454345801616401742516823706977499203830632438772210378635754929984053275486173320699392086729434544222278051711143562653302216047639019607926976310307512595020987566782882240482501624367650708900112792157481259995097226400697562496327357808498825651867175638628517075138518537134256814165959022139055234213029659769883468286381853919341659081447994854977169106561621469416134336127956751354009776593843989947198682172290877427708082389344750353557684827455409306908203395627553046759077691058306654367508052162418039667569288088365477614384683567863161323470651324032572729349182517047791057439165921608529386411345205127952582282554368101728674829742757065017536683278546418657065533379175214401196384058675178148509833457301599426826568740388001884622630223533170449326241959647688431330125076096084834183072550813488036952297208751797155742244974409112110250185276667472753968125456275948696849486982253310040075475518378890283410934990208196783703905363262527653351525172937666020745860466401968301073488643428396529254173801700082165166701386691782593500655883410266476549198491582376681745019187415606606676142701408023144245516340174592460634850217097241852037193643430036968996912620519939172283488399648990437799881218735656017793829957616465164735333952303080920356755362169713485923504871343324013213954135973745996789405198097320483960973942671192961140934080418413261939681252019443093236325398042175065316291512996473580681953924514465412576350290144318490689364519544239937051029499255194685300326265712584890259910842799054365350741644081652974028617587130357638257545452917069817259793642939903903536041046717109415771756008131788176006380881717854103019235078959257993591201709879558487444348172827592137607761366662498001047671908737150038083561101789903651779022596478251285807572804829220173643792708881388978869434901465662794902941448802980640345905529587335466353826837195303945910835107886095847111888120124778556174760524299927055835723876953125"
      ]
     },
     "execution_count": 20,
     "metadata": {},
     "output_type": "execute_result"
    }
   ],
   "source": [
    "# Num"
   ]
  },
  {
   "cell_type": "code",
   "execution_count": 28,
   "metadata": {},
   "outputs": [
    {
     "data": {
      "text/plain": [
       "4"
      ]
     },
     "execution_count": 28,
     "metadata": {},
     "output_type": "execute_result"
    }
   ],
   "source": [
    "type(2)\n",
    "isinstance(2,int)\n",
    "4//5\n",
    "4%5\n"
   ]
  },
  {
   "cell_type": "code",
   "execution_count": 29,
   "metadata": {},
   "outputs": [
    {
     "data": {
      "text/plain": [
       "13.6790936"
      ]
     },
     "execution_count": 29,
     "metadata": {},
     "output_type": "execute_result"
    }
   ],
   "source": [
    "# Float\n",
    "a = 3.2323\n",
    "b = 4.232\n",
    "\n",
    "a*b\n"
   ]
  },
  {
   "cell_type": "code",
   "execution_count": 31,
   "metadata": {},
   "outputs": [
    {
     "data": {
      "text/plain": [
       "7.4643"
      ]
     },
     "execution_count": 31,
     "metadata": {},
     "output_type": "execute_result"
    }
   ],
   "source": [
    "a+b\n",
    "\n"
   ]
  },
  {
   "cell_type": "code",
   "execution_count": 32,
   "metadata": {},
   "outputs": [
    {
     "data": {
      "text/plain": [
       "3.0"
      ]
     },
     "execution_count": 32,
     "metadata": {},
     "output_type": "execute_result"
    }
   ],
   "source": [
    "float(3)"
   ]
  },
  {
   "cell_type": "code",
   "execution_count": 44,
   "metadata": {},
   "outputs": [
    {
     "data": {
      "text/plain": [
       "False"
      ]
     },
     "execution_count": 44,
     "metadata": {},
     "output_type": "execute_result"
    }
   ],
   "source": [
    "# Boolean\n",
    "a = True\n",
    "b = False\n",
    "\n",
    "a & b"
   ]
  },
  {
   "cell_type": "code",
   "execution_count": 35,
   "metadata": {},
   "outputs": [
    {
     "data": {
      "text/plain": [
       "True"
      ]
     },
     "execution_count": 35,
     "metadata": {},
     "output_type": "execute_result"
    }
   ],
   "source": [
    "a | b"
   ]
  },
  {
   "cell_type": "code",
   "execution_count": 36,
   "metadata": {},
   "outputs": [
    {
     "data": {
      "text/plain": [
       "True"
      ]
     },
     "execution_count": 36,
     "metadata": {},
     "output_type": "execute_result"
    }
   ],
   "source": [
    "(a and b ) or (not b)"
   ]
  },
  {
   "cell_type": "code",
   "execution_count": 45,
   "metadata": {},
   "outputs": [
    {
     "name": "stdout",
     "output_type": "stream",
     "text": [
      "puedo usar las 'comillas simples sin problema\n"
     ]
    }
   ],
   "source": [
    "x = \"esto es una cadena de texto\"\n",
    "y = 'esto es otra cadena'\n",
    "z = \"puedo usar las 'comillas simples sin problema\"\n",
    "t = 'puedo usar las comillas \"dobles\" sin problema'\n",
    "print (z)"
   ]
  },
  {
   "cell_type": "code",
   "execution_count": 47,
   "metadata": {},
   "outputs": [
    {
     "data": {
      "text/plain": [
       "'Esto es un texto\\ncon\\nvarias'"
      ]
     },
     "execution_count": 47,
     "metadata": {},
     "output_type": "execute_result"
    }
   ],
   "source": [
    "\"\"\"Esto es un texto\n",
    "con\n",
    "varias\"\"\""
   ]
  },
  {
   "cell_type": "markdown",
   "metadata": {},
   "source": [
    "### Data structures\n",
    "\n",
    "lists, tuples, dicts and sets"
   ]
  },
  {
   "cell_type": "code",
   "execution_count": 51,
   "metadata": {},
   "outputs": [
    {
     "name": "stdout",
     "output_type": "stream",
     "text": [
      "pepe\n",
      "2\n",
      "3.0\n",
      "carlos\n"
     ]
    }
   ],
   "source": [
    "a = ['pepe', 2, 3.0, \"carlos\"]\n",
    "for objeto in a:\n",
    "    print(objeto)"
   ]
  },
  {
   "cell_type": "code",
   "execution_count": 52,
   "metadata": {},
   "outputs": [
    {
     "data": {
      "text/plain": [
       "['pepe', 2]"
      ]
     },
     "execution_count": 52,
     "metadata": {},
     "output_type": "execute_result"
    }
   ],
   "source": [
    "a[0:2]"
   ]
  },
  {
   "cell_type": "code",
   "execution_count": 53,
   "metadata": {},
   "outputs": [],
   "source": [
    "s = 'Esto es una cadena de texto'\n",
    "t = 'y esto otra'"
   ]
  },
  {
   "cell_type": "code",
   "execution_count": 54,
   "metadata": {},
   "outputs": [
    {
     "data": {
      "text/plain": [
       "'Esto'"
      ]
     },
     "execution_count": 54,
     "metadata": {},
     "output_type": "execute_result"
    }
   ],
   "source": [
    "s[0:4]"
   ]
  },
  {
   "cell_type": "code",
   "execution_count": 55,
   "metadata": {},
   "outputs": [
    {
     "data": {
      "text/plain": [
       "'Esto es una cadena de textoy esto otra'"
      ]
     },
     "execution_count": 55,
     "metadata": {},
     "output_type": "execute_result"
    }
   ],
   "source": [
    "s + t"
   ]
  },
  {
   "cell_type": "code",
   "execution_count": 57,
   "metadata": {},
   "outputs": [
    {
     "data": {
      "text/plain": [
       "27"
      ]
     },
     "execution_count": 57,
     "metadata": {},
     "output_type": "execute_result"
    }
   ],
   "source": [
    "len(s)"
   ]
  },
  {
   "cell_type": "code",
   "execution_count": 58,
   "metadata": {},
   "outputs": [
    {
     "data": {
      "text/plain": [
       "['pepe', 2, 3.0, 'carlos']"
      ]
     },
     "execution_count": 58,
     "metadata": {},
     "output_type": "execute_result"
    }
   ],
   "source": [
    "a"
   ]
  },
  {
   "cell_type": "code",
   "execution_count": 59,
   "metadata": {},
   "outputs": [
    {
     "data": {
      "text/plain": [
       "'carlos'"
      ]
     },
     "execution_count": 59,
     "metadata": {},
     "output_type": "execute_result"
    }
   ],
   "source": [
    "a.pop()"
   ]
  },
  {
   "cell_type": "code",
   "execution_count": 60,
   "metadata": {},
   "outputs": [
    {
     "data": {
      "text/plain": [
       "['pepe', 2, 3.0]"
      ]
     },
     "execution_count": 60,
     "metadata": {},
     "output_type": "execute_result"
    }
   ],
   "source": [
    "a"
   ]
  },
  {
   "cell_type": "code",
   "execution_count": 62,
   "metadata": {},
   "outputs": [
    {
     "data": {
      "text/plain": [
       "['pepe', 2, 3.0]"
      ]
     },
     "execution_count": 62,
     "metadata": {},
     "output_type": "execute_result"
    }
   ],
   "source": [
    "a.reverse()\n",
    "a"
   ]
  },
  {
   "cell_type": "code",
   "execution_count": 63,
   "metadata": {},
   "outputs": [
    {
     "data": {
      "text/plain": [
       "\u001b[0;31mDocstring:\u001b[0m L.reverse() -- reverse *IN PLACE*\n",
       "\u001b[0;31mType:\u001b[0m      builtin_function_or_method\n"
      ]
     },
     "metadata": {},
     "output_type": "display_data"
    }
   ],
   "source": [
    "a.reverse?\n"
   ]
  },
  {
   "cell_type": "code",
   "execution_count": 67,
   "metadata": {},
   "outputs": [
    {
     "data": {
      "text/plain": [
       "{'address': 'no street', 'lastname': 'Sanz', 'name': 'Montse'}"
      ]
     },
     "execution_count": 67,
     "metadata": {},
     "output_type": "execute_result"
    }
   ],
   "source": [
    "# Diccionaries\n",
    "\n",
    "## People metadata\n",
    "\n",
    "d = {\n",
    "    'name': 'Montse',\n",
    "    'lastname': 'Sanz',\n",
    "    'address' : 'no street'\n",
    "}\n",
    "d"
   ]
  },
  {
   "cell_type": "code",
   "execution_count": 70,
   "metadata": {},
   "outputs": [
    {
     "data": {
      "text/plain": [
       "'Montse Sanz no street'"
      ]
     },
     "execution_count": 70,
     "metadata": {},
     "output_type": "execute_result"
    }
   ],
   "source": [
    "sep = ' '\n",
    "d['name'] + sep + d['lastname'] + sep + d['address']"
   ]
  },
  {
   "cell_type": "code",
   "execution_count": 71,
   "metadata": {},
   "outputs": [
    {
     "data": {
      "text/plain": [
       "{'address': 'no street',\n",
       " 'lastname': 'Sanz',\n",
       " 'name': 'Montse',\n",
       " 'phone number': '686475692'}"
      ]
     },
     "execution_count": 71,
     "metadata": {},
     "output_type": "execute_result"
    }
   ],
   "source": [
    "d['phone number'] = '686475692'\n",
    "d"
   ]
  },
  {
   "cell_type": "code",
   "execution_count": 75,
   "metadata": {},
   "outputs": [
    {
     "data": {
      "text/plain": [
       "{'address': 'no street',\n",
       " 'lastname': 'Sanz',\n",
       " 'name': 'Montse',\n",
       " 'new dicctionary': {'courses': 'course1', 'languaje': 'Uk-en'},\n",
       " 'phone number': '686475692'}"
      ]
     },
     "execution_count": 75,
     "metadata": {},
     "output_type": "execute_result"
    }
   ],
   "source": [
    "d['new dicctionary'] = {\n",
    "    'courses' : 'course1',\n",
    "    'languaje' : 'Uk-en'\n",
    "}\n",
    "d"
   ]
  },
  {
   "cell_type": "code",
   "execution_count": 78,
   "metadata": {},
   "outputs": [
    {
     "data": {
      "text/plain": [
       "\u001b[0;31mDocstring:\u001b[0m\n",
       "D.update([E, ]**F) -> None.  Update D from dict/iterable E and F.\n",
       "If E is present and has a .keys() method, then does:  for k in E: D[k] = E[k]\n",
       "If E is present and lacks a .keys() method, then does:  for k, v in E: D[k] = v\n",
       "In either case, this is followed by: for k in F:  D[k] = F[k]\n",
       "\u001b[0;31mType:\u001b[0m      builtin_function_or_method\n"
      ]
     },
     "metadata": {},
     "output_type": "display_data"
    }
   ],
   "source": [
    "d.update?"
   ]
  },
  {
   "cell_type": "code",
   "execution_count": 79,
   "metadata": {},
   "outputs": [
    {
     "data": {
      "text/plain": [
       "(1, 2, 3, 4)"
      ]
     },
     "execution_count": 79,
     "metadata": {},
     "output_type": "execute_result"
    }
   ],
   "source": [
    "# Tuples\n",
    "t = (1,2,3,4)\n",
    "t"
   ]
  },
  {
   "cell_type": "code",
   "execution_count": 80,
   "metadata": {},
   "outputs": [
    {
     "data": {
      "text/plain": [
       "4"
      ]
     },
     "execution_count": 80,
     "metadata": {},
     "output_type": "execute_result"
    }
   ],
   "source": [
    "len(t)"
   ]
  },
  {
   "cell_type": "code",
   "execution_count": 82,
   "metadata": {},
   "outputs": [
    {
     "data": {
      "text/plain": [
       "2"
      ]
     },
     "execution_count": 82,
     "metadata": {},
     "output_type": "execute_result"
    }
   ],
   "source": [
    "t[1]"
   ]
  },
  {
   "cell_type": "code",
   "execution_count": 92,
   "metadata": {},
   "outputs": [],
   "source": [
    "# Sets\n",
    "\n",
    "a1 = set(a)"
   ]
  },
  {
   "cell_type": "code",
   "execution_count": 98,
   "metadata": {},
   "outputs": [
    {
     "data": {
      "text/plain": [
       "{3, 'maria', 'pepe'}"
      ]
     },
     "execution_count": 98,
     "metadata": {},
     "output_type": "execute_result"
    }
   ],
   "source": [
    "a1"
   ]
  },
  {
   "cell_type": "code",
   "execution_count": 102,
   "metadata": {},
   "outputs": [],
   "source": [
    "b = [3, 5.0, 'pepe', 'maria']\n",
    "b1 = set(b)"
   ]
  },
  {
   "cell_type": "code",
   "execution_count": 103,
   "metadata": {},
   "outputs": [
    {
     "data": {
      "text/plain": [
       "{3, 5.0, 'maria', 'pepe'}"
      ]
     },
     "execution_count": 103,
     "metadata": {},
     "output_type": "execute_result"
    }
   ],
   "source": [
    "b1"
   ]
  },
  {
   "cell_type": "code",
   "execution_count": 95,
   "metadata": {},
   "outputs": [
    {
     "data": {
      "text/plain": [
       "{3, 'maria', 'pepe'}"
      ]
     },
     "execution_count": 95,
     "metadata": {},
     "output_type": "execute_result"
    }
   ],
   "source": [
    "a1.intersection(b1)\n"
   ]
  },
  {
   "cell_type": "code",
   "execution_count": 96,
   "metadata": {},
   "outputs": [
    {
     "data": {
      "text/plain": [
       "{3, 'maria', 'pepe'}"
      ]
     },
     "execution_count": 96,
     "metadata": {},
     "output_type": "execute_result"
    }
   ],
   "source": [
    "a1"
   ]
  },
  {
   "cell_type": "code",
   "execution_count": 97,
   "metadata": {},
   "outputs": [
    {
     "data": {
      "text/plain": [
       "{3, 'maria', 'pepe'}"
      ]
     },
     "execution_count": 97,
     "metadata": {},
     "output_type": "execute_result"
    }
   ],
   "source": [
    "b1"
   ]
  },
  {
   "cell_type": "code",
   "execution_count": null,
   "metadata": {},
   "outputs": [],
   "source": []
  },
  {
   "cell_type": "markdown",
   "metadata": {},
   "source": [
    "## Flow control\n",
    "\n",
    "if - else - elseif\n",
    "\n",
    "for, while loops (break and continue)\n",
    "\n",
    "In other languages, you have switch, that does not exist in Python"
   ]
  },
  {
   "cell_type": "code",
   "execution_count": 104,
   "metadata": {},
   "outputs": [
    {
     "name": "stdout",
     "output_type": "stream",
     "text": [
      "carambola, son iguales!\n"
     ]
    }
   ],
   "source": [
    "x = 2\n",
    "y = 4\n",
    "if (x==y):\n",
    "    print('cómo estamos?')\n",
    "else:\n",
    "    if (y-2==x):\n",
    "        print('carambola, son iguales!')\n",
    "    elif (y==4):\n",
    "        print('llegamos al final!')\n",
    "        \n",
    "    "
   ]
  },
  {
   "cell_type": "code",
   "execution_count": 118,
   "metadata": {},
   "outputs": [
    {
     "name": "stdout",
     "output_type": "stream",
     "text": [
      "2-11\n",
      "2-12\n",
      "2-13\n",
      "2-14\n",
      "2-15\n",
      "2-16\n",
      "2-17\n",
      "2-18\n",
      "2-19\n",
      "2-20\n",
      "4-11\n",
      "4-12\n",
      "4-13\n",
      "4-14\n",
      "4-15\n",
      "4-16\n",
      "4-17\n",
      "4-18\n",
      "4-19\n",
      "4-20\n",
      "6-11\n",
      "6-12\n",
      "6-13\n",
      "6-14\n",
      "6-15\n",
      "6-16\n",
      "6-17\n",
      "6-18\n",
      "6-19\n",
      "6-20\n",
      "8-11\n",
      "8-12\n",
      "8-13\n",
      "8-14\n",
      "8-15\n",
      "8-16\n",
      "8-17\n",
      "8-18\n",
      "8-19\n",
      "8-20\n",
      "10-11\n",
      "10-12\n",
      "10-13\n",
      "10-14\n",
      "10-15\n",
      "10-16\n",
      "10-17\n",
      "10-18\n",
      "10-19\n",
      "10-20\n"
     ]
    }
   ],
   "source": [
    "# For loops\n",
    "\n",
    "a = [1,2,3,4,5,6,7,8,9,10]\n",
    "for i in a:\n",
    "    b = [11,12,13,14,15,16,17,18,19,20]\n",
    "    if (i%2 == 0):\n",
    "        for j in b:\n",
    "            print (str(i) + '-' + str(j))\n",
    "\n",
    "\n",
    "#aList=list(a)\n",
    "#bList=list(b)\n",
    "#print(aList)\n",
    "#print(bList)"
   ]
  },
  {
   "cell_type": "code",
   "execution_count": 119,
   "metadata": {},
   "outputs": [
    {
     "name": "stdout",
     "output_type": "stream",
     "text": [
      "[10, 9, 8, 7, 6, 5, 4, 3, 2, 1]\n"
     ]
    }
   ],
   "source": [
    "a.reverse()\n",
    "print (a)\n"
   ]
  },
  {
   "cell_type": "code",
   "execution_count": 121,
   "metadata": {},
   "outputs": [
    {
     "data": {
      "text/plain": [
       "[1, 2, 3, 4, 5, 6, 7, 8, 9, 10]"
      ]
     },
     "execution_count": 121,
     "metadata": {},
     "output_type": "execute_result"
    }
   ],
   "source": [
    "a.sort()\n",
    "a"
   ]
  },
  {
   "cell_type": "code",
   "execution_count": 143,
   "metadata": {},
   "outputs": [
    {
     "name": "stdout",
     "output_type": "stream",
     "text": [
      "1\n",
      "2\n",
      "3\n",
      "4\n",
      "5\n"
     ]
    }
   ],
   "source": [
    "i = 0\n",
    "while (i < 5):\n",
    "    print(a[i])\n",
    "    i = i + 1\n",
    "\n",
    "    "
   ]
  },
  {
   "cell_type": "markdown",
   "metadata": {},
   "source": [
    "## Functions\n",
    "\n",
    "return (and None when ommitted)\n",
    "\n",
    "Positional and keyword arguments\n",
    "\n",
    "Call by value or call by reference? Python is always \"call by reference\" (warning!)"
   ]
  },
  {
   "cell_type": "markdown",
   "metadata": {},
   "source": [
    "Local variables"
   ]
  },
  {
   "cell_type": "code",
   "execution_count": 146,
   "metadata": {},
   "outputs": [
    {
     "data": {
      "text/plain": [
       "6"
      ]
     },
     "execution_count": 146,
     "metadata": {},
     "output_type": "execute_result"
    }
   ],
   "source": [
    "def myFirstFun(arg1, arg2, arg3):\n",
    "    return arg1 + arg2 + arg3\n",
    "\n",
    "myFirstFun(1,2,3)"
   ]
  },
  {
   "cell_type": "code",
   "execution_count": 148,
   "metadata": {},
   "outputs": [
    {
     "data": {
      "text/plain": [
       "6"
      ]
     },
     "execution_count": 148,
     "metadata": {},
     "output_type": "execute_result"
    }
   ],
   "source": [
    "def dataNome(arg1, arg2, arg3=3):\n",
    "    return arg1+arg2+arg3\n",
    "\n",
    "dataNome(1,2)"
   ]
  },
  {
   "cell_type": "code",
   "execution_count": 153,
   "metadata": {},
   "outputs": [],
   "source": [
    "from math import sqrt\n",
    "\n",
    "def raizCuadrada(n):\n",
    "    if(n>=0):\n",
    "        return sqrt(n)\n",
    "    else:\n",
    "        return None\n",
    "    \n",
    "    "
   ]
  },
  {
   "cell_type": "code",
   "execution_count": 154,
   "metadata": {},
   "outputs": [
    {
     "data": {
      "text/plain": [
       "2.0"
      ]
     },
     "execution_count": 154,
     "metadata": {},
     "output_type": "execute_result"
    }
   ],
   "source": [
    "raizCuadrada(4)\n"
   ]
  },
  {
   "cell_type": "code",
   "execution_count": 159,
   "metadata": {},
   "outputs": [],
   "source": [
    "def modificandoValores(n):\n",
    "    n = n+2\n",
    "    return n\n"
   ]
  },
  {
   "cell_type": "code",
   "execution_count": 160,
   "metadata": {},
   "outputs": [
    {
     "data": {
      "text/plain": [
       "4"
      ]
     },
     "execution_count": 160,
     "metadata": {},
     "output_type": "execute_result"
    }
   ],
   "source": [
    "a = 2\n",
    "modificandoValores(a)\n"
   ]
  },
  {
   "cell_type": "code",
   "execution_count": 161,
   "metadata": {},
   "outputs": [
    {
     "data": {
      "text/plain": [
       "2"
      ]
     },
     "execution_count": 161,
     "metadata": {},
     "output_type": "execute_result"
    }
   ],
   "source": [
    "a"
   ]
  },
  {
   "cell_type": "code",
   "execution_count": null,
   "metadata": {},
   "outputs": [],
   "source": []
  },
  {
   "cell_type": "markdown",
   "metadata": {},
   "source": [
    "How to return multiple values? How to consume that output?"
   ]
  },
  {
   "cell_type": "code",
   "execution_count": 165,
   "metadata": {},
   "outputs": [],
   "source": [
    "def mi_function (a,b,c):\n",
    "    suma = a + b + c\n",
    "    multi = a * b * c\n",
    "    return (suma, multi)"
   ]
  },
  {
   "cell_type": "code",
   "execution_count": 167,
   "metadata": {},
   "outputs": [],
   "source": [
    "a, b = mi_function(1,2,3)"
   ]
  },
  {
   "cell_type": "code",
   "execution_count": 168,
   "metadata": {},
   "outputs": [
    {
     "data": {
      "text/plain": [
       "6"
      ]
     },
     "execution_count": 168,
     "metadata": {},
     "output_type": "execute_result"
    }
   ],
   "source": [
    "a"
   ]
  },
  {
   "cell_type": "code",
   "execution_count": 171,
   "metadata": {},
   "outputs": [],
   "source": [
    "_,b = mi_function(1,2,3)"
   ]
  },
  {
   "cell_type": "code",
   "execution_count": 172,
   "metadata": {},
   "outputs": [
    {
     "data": {
      "text/plain": [
       "6"
      ]
     },
     "execution_count": 172,
     "metadata": {},
     "output_type": "execute_result"
    }
   ],
   "source": [
    "_"
   ]
  },
  {
   "cell_type": "code",
   "execution_count": 173,
   "metadata": {},
   "outputs": [
    {
     "data": {
      "text/plain": [
       "6"
      ]
     },
     "execution_count": 173,
     "metadata": {},
     "output_type": "execute_result"
    }
   ],
   "source": [
    "b"
   ]
  },
  {
   "cell_type": "code",
   "execution_count": 178,
   "metadata": {},
   "outputs": [],
   "source": [
    "a = mi_function(1,2,3)"
   ]
  },
  {
   "cell_type": "markdown",
   "metadata": {},
   "source": [
    "Positionals and nominals arguments"
   ]
  },
  {
   "cell_type": "code",
   "execution_count": null,
   "metadata": {},
   "outputs": [],
   "source": []
  },
  {
   "cell_type": "markdown",
   "metadata": {},
   "source": [
    "Anonymous (lambda) functions"
   ]
  },
  {
   "cell_type": "code",
   "execution_count": 180,
   "metadata": {},
   "outputs": [],
   "source": [
    "f = lambda x: x*2"
   ]
  },
  {
   "cell_type": "code",
   "execution_count": 181,
   "metadata": {},
   "outputs": [
    {
     "data": {
      "text/plain": [
       "4"
      ]
     },
     "execution_count": 181,
     "metadata": {},
     "output_type": "execute_result"
    }
   ],
   "source": [
    "f(2)"
   ]
  },
  {
   "cell_type": "markdown",
   "metadata": {},
   "source": [
    "Functions as objects: how to reference, how to call\n",
    "\n",
    "* Example with map"
   ]
  },
  {
   "cell_type": "code",
   "execution_count": null,
   "metadata": {},
   "outputs": [],
   "source": [
    "x = [2, 4, 6, 8, 10]\n",
    "\n",
    "list(map(lambda n:sqrt(n), x))"
   ]
  },
  {
   "cell_type": "code",
   "execution_count": 187,
   "metadata": {},
   "outputs": [
    {
     "ename": "TypeError",
     "evalue": "'tuple' object does not support item assignment",
     "output_type": "error",
     "traceback": [
      "\u001b[0;31m---------------------------------------------------------------------------\u001b[0m",
      "\u001b[0;31mTypeError\u001b[0m                                 Traceback (most recent call last)",
      "\u001b[0;32m<ipython-input-187-cd7eb2066f63>\u001b[0m in \u001b[0;36m<module>\u001b[0;34m()\u001b[0m\n\u001b[1;32m      5\u001b[0m     \u001b[0;32mreturn\u001b[0m \u001b[0mlen\u001b[0m\u001b[0;34m(\u001b[0m\u001b[0ml\u001b[0m\u001b[0;34m)\u001b[0m\u001b[0;34m\u001b[0m\u001b[0m\n\u001b[1;32m      6\u001b[0m \u001b[0;34m\u001b[0m\u001b[0m\n\u001b[0;32m----> 7\u001b[0;31m \u001b[0mduplicar\u001b[0m\u001b[0;34m(\u001b[0m\u001b[0ml\u001b[0m\u001b[0;34m)\u001b[0m\u001b[0;34m\u001b[0m\u001b[0m\n\u001b[0m",
      "\u001b[0;32m<ipython-input-187-cd7eb2066f63>\u001b[0m in \u001b[0;36mduplicar\u001b[0;34m(*lista)\u001b[0m\n\u001b[1;32m      2\u001b[0m \u001b[0;34m\u001b[0m\u001b[0m\n\u001b[1;32m      3\u001b[0m \u001b[0;32mdef\u001b[0m \u001b[0mduplicar\u001b[0m\u001b[0;34m(\u001b[0m\u001b[0;34m*\u001b[0m\u001b[0mlista\u001b[0m\u001b[0;34m)\u001b[0m\u001b[0;34m:\u001b[0m\u001b[0;34m\u001b[0m\u001b[0m\n\u001b[0;32m----> 4\u001b[0;31m     \u001b[0mlista\u001b[0m\u001b[0;34m[\u001b[0m\u001b[0;36m2\u001b[0m\u001b[0;34m]\u001b[0m\u001b[0;34m=\u001b[0m\u001b[0;36m3\u001b[0m\u001b[0;34m\u001b[0m\u001b[0m\n\u001b[0m\u001b[1;32m      5\u001b[0m     \u001b[0;32mreturn\u001b[0m \u001b[0mlen\u001b[0m\u001b[0;34m(\u001b[0m\u001b[0ml\u001b[0m\u001b[0;34m)\u001b[0m\u001b[0;34m\u001b[0m\u001b[0m\n\u001b[1;32m      6\u001b[0m \u001b[0;34m\u001b[0m\u001b[0m\n",
      "\u001b[0;31mTypeError\u001b[0m: 'tuple' object does not support item assignment"
     ]
    }
   ],
   "source": [
    "l = [1,2,6,4,5]\n",
    "\n",
    "def duplicar(*lista):\n",
    "    lista[2]=3\n",
    "    return len(l)\n",
    "\n",
    "duplicar(l)"
   ]
  },
  {
   "cell_type": "markdown",
   "metadata": {},
   "source": [
    "# Exercises\n",
    "\n",
    "## Exercise 1\n",
    "\n",
    "Write a function “centenario” that will take Name, and year of birth  as inputs and print name together with the text explaining when the person is to have 100 years \n",
    "\n",
    "* call to function: \t`centenario(\"Antonio\", 1967)`\n",
    "* output: \t`Antonio will reach 100 years in 2067.`\n",
    "\n",
    "The function should return a string, and it should not have any *side effect*. If the input string is empty, or the year is equal to or lower than 0, it should return None"
   ]
  },
  {
   "cell_type": "code",
   "execution_count": 201,
   "metadata": {},
   "outputs": [],
   "source": [
    "def centenario(name, year):\n",
    "    if ( (len(name)==0) or (year <= 0)):\n",
    "        return None\n",
    "    else:\n",
    "        return name + \" will reach 100 years in \" + str(year+100)\n",
    "    "
   ]
  },
  {
   "cell_type": "code",
   "execution_count": 202,
   "metadata": {},
   "outputs": [
    {
     "data": {
      "text/plain": [
       "'Montse will reach 100 years in 150'"
      ]
     },
     "execution_count": 202,
     "metadata": {},
     "output_type": "execute_result"
    }
   ],
   "source": [
    "centenario(\"Montse\", 50)"
   ]
  },
  {
   "cell_type": "code",
   "execution_count": 225,
   "metadata": {},
   "outputs": [
    {
     "data": {
      "text/plain": [
       "'  will reach 100 years in 150'"
      ]
     },
     "execution_count": 225,
     "metadata": {},
     "output_type": "execute_result"
    }
   ],
   "source": [
    "centenario(\" \",50)"
   ]
  },
  {
   "cell_type": "code",
   "execution_count": 204,
   "metadata": {},
   "outputs": [],
   "source": [
    "centenario(\"Montse\", 0)"
   ]
  },
  {
   "cell_type": "code",
   "execution_count": 205,
   "metadata": {},
   "outputs": [],
   "source": [
    "centenario(\"Montse\", -1)"
   ]
  },
  {
   "cell_type": "code",
   "execution_count": 206,
   "metadata": {},
   "outputs": [
    {
     "data": {
      "text/plain": [
       "'Montse will reach 100 years in 300'"
      ]
     },
     "execution_count": 206,
     "metadata": {},
     "output_type": "execute_result"
    }
   ],
   "source": [
    "centenario(\"Montse\", 200)"
   ]
  },
  {
   "cell_type": "code",
   "execution_count": 207,
   "metadata": {},
   "outputs": [
    {
     "data": {
      "text/plain": [
       "'Antonio will reach 100 years in 2067'"
      ]
     },
     "execution_count": 207,
     "metadata": {},
     "output_type": "execute_result"
    }
   ],
   "source": [
    "centenario(\"Antonio\", 1967)"
   ]
  },
  {
   "cell_type": "markdown",
   "metadata": {},
   "source": [
    "    ## Exercise 2\n",
    "\n",
    "Implement a function that takes as input three variables, and returns the largest of the three.  Do this without using the Python `max()` function! Make one version without any local variable and another with one local variable.\n",
    "\n",
    "* call to function: `max3(3,4,2)`\n",
    "* output: `4`\n"
   ]
  },
  {
   "cell_type": "code",
   "execution_count": 217,
   "metadata": {},
   "outputs": [],
   "source": [
    "def max3(arg1, arg2, arg3):\n",
    "    if ((arg1 > arg3) and (arg1 > arg2)):\n",
    "        print(\"gana arg1\")\n",
    "        return arg1\n",
    "    elif ((arg2 > arg3) and (arg2 > arg1)):\n",
    "        print(\"gana arg2\")\n",
    "        return arg2\n",
    "    elif ((arg3 > arg1) and (arg3 > arg2)):\n",
    "        print(\"gana arg3\")\n",
    "        return arg3\n",
    "    else:\n",
    "        print(\"no hay nadie que gane\")\n",
    "        return None\n",
    "    "
   ]
  },
  {
   "cell_type": "code",
   "execution_count": 218,
   "metadata": {},
   "outputs": [
    {
     "name": "stdout",
     "output_type": "stream",
     "text": [
      "gana arg3\n"
     ]
    },
    {
     "data": {
      "text/plain": [
       "3"
      ]
     },
     "execution_count": 218,
     "metadata": {},
     "output_type": "execute_result"
    }
   ],
   "source": [
    "max3(1,2,3)"
   ]
  },
  {
   "cell_type": "code",
   "execution_count": 223,
   "metadata": {},
   "outputs": [
    {
     "name": "stdout",
     "output_type": "stream",
     "text": [
      "gana arg3\n"
     ]
    },
    {
     "data": {
      "text/plain": [
       "15"
      ]
     },
     "execution_count": 223,
     "metadata": {},
     "output_type": "execute_result"
    }
   ],
   "source": [
    "max3(2,10,15)"
   ]
  },
  {
   "cell_type": "code",
   "execution_count": 224,
   "metadata": {},
   "outputs": [
    {
     "name": "stdout",
     "output_type": "stream",
     "text": [
      "no hay nadie que gane\n"
     ]
    }
   ],
   "source": [
    "max3(2,2,1)"
   ]
  },
  {
   "cell_type": "code",
   "execution_count": 227,
   "metadata": {},
   "outputs": [],
   "source": [
    "def max3_bis(arg1, arg2, arg3):\n",
    "    arg2Bigger = (arg2 > arg1)\n",
    "    if (arg2Bigger and (arg2 > arg3)): \n",
    "        return arg2\n",
    "    elif (arg1 > arg3):\n",
    "        return arg1\n",
    "    else: return arg3\n",
    "        \n",
    "        "
   ]
  },
  {
   "cell_type": "code",
   "execution_count": 228,
   "metadata": {},
   "outputs": [
    {
     "data": {
      "text/plain": [
       "4"
      ]
     },
     "execution_count": 228,
     "metadata": {},
     "output_type": "execute_result"
    }
   ],
   "source": [
    "max3_bis(2,3,4)"
   ]
  },
  {
   "cell_type": "code",
   "execution_count": 229,
   "metadata": {},
   "outputs": [
    {
     "data": {
      "text/plain": [
       "5"
      ]
     },
     "execution_count": 229,
     "metadata": {},
     "output_type": "execute_result"
    }
   ],
   "source": [
    "max3_bis(5,2,1)"
   ]
  },
  {
   "cell_type": "code",
   "execution_count": 230,
   "metadata": {},
   "outputs": [
    {
     "data": {
      "text/plain": [
       "5"
      ]
     },
     "execution_count": 230,
     "metadata": {},
     "output_type": "execute_result"
    }
   ],
   "source": [
    "max3_bis(2,5,1)"
   ]
  },
  {
   "cell_type": "code",
   "execution_count": 231,
   "metadata": {},
   "outputs": [
    {
     "data": {
      "text/plain": [
       "10"
      ]
     },
     "execution_count": 231,
     "metadata": {},
     "output_type": "execute_result"
    }
   ],
   "source": [
    "max3_bis(-1,3,10)"
   ]
  },
  {
   "cell_type": "code",
   "execution_count": 238,
   "metadata": {},
   "outputs": [],
   "source": [
    "def max3_bis2 (arg1, arg2, arg3):\n",
    "    lista = [arg1, arg2, arg3]\n",
    "    lista.sort()\n",
    "    return lista[2]"
   ]
  },
  {
   "cell_type": "code",
   "execution_count": 239,
   "metadata": {},
   "outputs": [
    {
     "data": {
      "text/plain": [
       "5"
      ]
     },
     "execution_count": 239,
     "metadata": {},
     "output_type": "execute_result"
    }
   ],
   "source": [
    "max3_bis2(3,4,5)"
   ]
  },
  {
   "cell_type": "markdown",
   "metadata": {},
   "source": [
    "# Types in greater detail"
   ]
  },
  {
   "cell_type": "markdown",
   "metadata": {},
   "source": [
    "Numeric types: arbitray length ints, methods, operations (integer and real division)"
   ]
  },
  {
   "cell_type": "code",
   "execution_count": null,
   "metadata": {},
   "outputs": [],
   "source": []
  },
  {
   "cell_type": "markdown",
   "metadata": {},
   "source": [
    "Complex numbers"
   ]
  },
  {
   "cell_type": "code",
   "execution_count": 242,
   "metadata": {},
   "outputs": [],
   "source": [
    "\n",
    "a=3+2j\n"
   ]
  },
  {
   "cell_type": "markdown",
   "metadata": {},
   "source": [
    "Strings: single and multi line, strings as collections, interpolations and formatting, common methods (find, replace, split, count, isdigit, join)"
   ]
  },
  {
   "cell_type": "code",
   "execution_count": 243,
   "metadata": {},
   "outputs": [
    {
     "data": {
      "text/plain": [
       "(3+2j)"
      ]
     },
     "execution_count": 243,
     "metadata": {},
     "output_type": "execute_result"
    }
   ],
   "source": [
    "a"
   ]
  },
  {
   "cell_type": "code",
   "execution_count": 253,
   "metadata": {},
   "outputs": [
    {
     "name": "stdout",
     "output_type": "stream",
     "text": [
      "Antonio, estamos en el anho 2012 y ademas pi vale 3.141593\n"
     ]
    },
    {
     "data": {
      "text/plain": [
       "0"
      ]
     },
     "execution_count": 253,
     "metadata": {},
     "output_type": "execute_result"
    }
   ],
   "source": [
    "from math import pi\n",
    "nombre = 'Antonio'\n",
    "anho = 2012\n",
    "\n",
    "print(\"%s, estamos en el anho %d y ademas pi vale %f\" % (nombre, anho, pi))\n",
    "s=\"esto es una prueba con una cadena de texto\"\n",
    "s.find(\"esto\")\n"
   ]
  },
  {
   "cell_type": "code",
   "execution_count": 257,
   "metadata": {},
   "outputs": [
    {
     "data": {
      "text/plain": [
       "'ESTO ES UNA PRUEBA CON UNA CADENA DE TEXTO'"
      ]
     },
     "execution_count": 257,
     "metadata": {},
     "output_type": "execute_result"
    }
   ],
   "source": [
    "s.swapcase()"
   ]
  },
  {
   "cell_type": "markdown",
   "metadata": {},
   "source": [
    "Booleans and boolean operators"
   ]
  },
  {
   "cell_type": "code",
   "execution_count": 258,
   "metadata": {},
   "outputs": [
    {
     "data": {
      "text/plain": [
       "'esto es una prueba con una cadena de texto'"
      ]
     },
     "execution_count": 258,
     "metadata": {},
     "output_type": "execute_result"
    }
   ],
   "source": [
    "s"
   ]
  },
  {
   "cell_type": "code",
   "execution_count": 263,
   "metadata": {},
   "outputs": [
    {
     "data": {
      "text/plain": [
       "\u001b[0;31mDocstring:\u001b[0m\n",
       "S.rfind(sub[, start[, end]]) -> int\n",
       "\n",
       "Return the highest index in S where substring sub is found,\n",
       "such that sub is contained within S[start:end].  Optional\n",
       "arguments start and end are interpreted as in slice notation.\n",
       "\n",
       "Return -1 on failure.\n",
       "\u001b[0;31mType:\u001b[0m      builtin_function_or_method\n"
      ]
     },
     "metadata": {},
     "output_type": "display_data"
    }
   ],
   "source": [
    "s=\"esto esto esto no no no es es es una cadena de texto\"\n",
    "s.split(\"esto\")\n",
    "s.rfind?"
   ]
  },
  {
   "cell_type": "markdown",
   "metadata": {},
   "source": [
    "Common type conversions: int, float, str, bool"
   ]
  },
  {
   "cell_type": "code",
   "execution_count": 266,
   "metadata": {},
   "outputs": [
    {
     "data": {
      "text/plain": [
       "10"
      ]
     },
     "execution_count": 266,
     "metadata": {},
     "output_type": "execute_result"
    }
   ],
   "source": [
    "s.rfind(\"esto\")"
   ]
  },
  {
   "cell_type": "code",
   "execution_count": 308,
   "metadata": {},
   "outputs": [
    {
     "data": {
      "text/plain": [
       "\u001b[0;31mDocstring:\u001b[0m\n",
       "S.index(sub[, start[, end]]) -> int\n",
       "\n",
       "Return the lowest index in S where substring sub is found, \n",
       "such that sub is contained within S[start:end].  Optional\n",
       "arguments start and end are interpreted as in slice notation.\n",
       "\n",
       "Raises ValueError when the substring is not found.\n",
       "\u001b[0;31mType:\u001b[0m      builtin_function_or_method\n"
      ]
     },
     "metadata": {},
     "output_type": "display_data"
    }
   ],
   "source": [
    "s.i"
   ]
  },
  {
   "cell_type": "markdown",
   "metadata": {},
   "source": [
    "# Exercises"
   ]
  },
  {
   "cell_type": "markdown",
   "metadata": {},
   "source": [
    "## Exercise 3\n",
    "\n",
    "Write a function to calculate the number of words, number of lines, and length of a string the same way the wc command does in the command line"
   ]
  },
  {
   "cell_type": "code",
   "execution_count": 300,
   "metadata": {},
   "outputs": [],
   "source": [
    "def my_wc (myString):\n",
    "    numberLines = myString.count(\"\\n\") + 1\n",
    "    numberWords = len(myString.split())\n",
    "    length = len(myString)\n",
    "    return numberLines, numberWords, length"
   ]
  },
  {
   "cell_type": "code",
   "execution_count": 307,
   "metadata": {},
   "outputs": [
    {
     "data": {
      "text/plain": [
       "(4, 8, 43)"
      ]
     },
     "execution_count": 307,
     "metadata": {},
     "output_type": "execute_result"
    }
   ],
   "source": [
    "stringProbar=\"\"\" vamos a   probar\n",
    "un string\n",
    "con dos lineas\n",
    "\"\"\"\n",
    "my_wc(stringProbar)"
   ]
  },
  {
   "cell_type": "markdown",
   "metadata": {},
   "source": [
    "## Exercise 4\n",
    "\n",
    "Write a Python program to remove the nth index character from a string. If the input string is empty, return None."
   ]
  },
  {
   "cell_type": "code",
   "execution_count": 313,
   "metadata": {},
   "outputs": [],
   "source": [
    "def removeNth (myString, index):\n",
    "    if myString == \"\" : \n",
    "        return None\n",
    "    else:\n",
    "        return myString[0:index] + myString[index+1:]"
   ]
  },
  {
   "cell_type": "code",
   "execution_count": 315,
   "metadata": {},
   "outputs": [
    {
     "data": {
      "text/plain": [
       "'esto e una prueba'"
      ]
     },
     "execution_count": 315,
     "metadata": {},
     "output_type": "execute_result"
    }
   ],
   "source": [
    "removeNth (\"esto es una prueba\", 6)\n",
    "#s=\"esto es una prueba\"\n",
    "#s[0:3]"
   ]
  },
  {
   "cell_type": "markdown",
   "metadata": {},
   "source": [
    "# Data structures in greater detail\n",
    "\n",
    "## Lists\n",
    "\n",
    "* Create lists, empty lists. What can a list contain?\n",
    "* Indexing\n",
    "* Common methods: append, extend, insert, remove, pip\n",
    "* Operations with lists: concatenate, sort, reverse"
   ]
  },
  {
   "cell_type": "code",
   "execution_count": null,
   "metadata": {},
   "outputs": [],
   "source": []
  },
  {
   "cell_type": "markdown",
   "metadata": {},
   "source": [
    "List comprehensions"
   ]
  },
  {
   "cell_type": "code",
   "execution_count": null,
   "metadata": {},
   "outputs": [],
   "source": []
  },
  {
   "cell_type": "markdown",
   "metadata": {},
   "source": [
    "## Tuples\n",
    "\n",
    "Immutable objects that can be indexed. Operations: concatenation, multiplication."
   ]
  },
  {
   "cell_type": "code",
   "execution_count": null,
   "metadata": {},
   "outputs": [],
   "source": []
  },
  {
   "cell_type": "markdown",
   "metadata": {},
   "source": [
    "## Dictionaries\n",
    "\n",
    "Also called maps. Key -> values"
   ]
  },
  {
   "cell_type": "code",
   "execution_count": null,
   "metadata": {},
   "outputs": [],
   "source": []
  },
  {
   "cell_type": "markdown",
   "metadata": {},
   "source": [
    "How to iterate with , how to merge dictionaries"
   ]
  },
  {
   "cell_type": "code",
   "execution_count": null,
   "metadata": {},
   "outputs": [],
   "source": []
  },
  {
   "cell_type": "markdown",
   "metadata": {},
   "source": [
    "Dicts comprehensions"
   ]
  },
  {
   "cell_type": "code",
   "execution_count": null,
   "metadata": {},
   "outputs": [],
   "source": []
  },
  {
   "cell_type": "markdown",
   "metadata": {},
   "source": [
    "## Sets\n",
    "\n",
    "union, intersection, difference"
   ]
  },
  {
   "cell_type": "code",
   "execution_count": null,
   "metadata": {},
   "outputs": [],
   "source": []
  },
  {
   "cell_type": "markdown",
   "metadata": {},
   "source": [
    "# Exercises\n",
    "\n",
    "## Some (maybe not so) quick exercises\n",
    "\n",
    "* For a sequence `[1, 2, 3, 4, 5, 6, 7, 8]` get the squared values using the lambda function.\n",
    "* Prepare a list with 10 names. Make a code that will put all vowels to capitals and every other character to lower letters.\n",
    "* Prepare again a list with 10 names. Make a function with two input variables: list, and character; that returns a list of names containing one or more of input characters ’s inside the name.  \n",
    "* Reverse word order from the input string \n",
    "* Create a function that accepts string as search string and returns number of lines with that string in a command history (hint : use `a in b`)\n",
    "* Write a Python function that takes a list of words and returns the length of the longest one.\n"
   ]
  },
  {
   "cell_type": "code",
   "execution_count": 323,
   "metadata": {},
   "outputs": [
    {
     "data": {
      "text/plain": [
       "[1, 4, 9, 16, 25, 36, 49, 64]"
      ]
     },
     "execution_count": 323,
     "metadata": {},
     "output_type": "execute_result"
    }
   ],
   "source": [
    "x = list(range(1,9))\n",
    "[n**2 for n in x]"
   ]
  },
  {
   "cell_type": "code",
   "execution_count": 322,
   "metadata": {},
   "outputs": [
    {
     "data": {
      "text/plain": [
       "[1, 4, 9, 16, 25, 36, 49, 64]"
      ]
     },
     "execution_count": 322,
     "metadata": {},
     "output_type": "execute_result"
    }
   ],
   "source": [
    "x = [1,2,3,4,5,6,7,8]\n",
    "\n",
    "list(map(lambda n:n*n, x))"
   ]
  },
  {
   "cell_type": "code",
   "execution_count": 344,
   "metadata": {},
   "outputs": [
    {
     "data": {
      "text/plain": [
       "'montse'"
      ]
     },
     "execution_count": 344,
     "metadata": {},
     "output_type": "execute_result"
    },
    {
     "data": {
      "text/plain": [
       "\u001b[0;31mDocstring:\u001b[0m\n",
       "S.replace(old, new[, count]) -> str\n",
       "\n",
       "Return a copy of S with all occurrences of substring\n",
       "old replaced by new.  If the optional argument count is\n",
       "given, only the first count occurrences are replaced.\n",
       "\u001b[0;31mType:\u001b[0m      builtin_function_or_method\n"
      ]
     },
     "metadata": {},
     "output_type": "display_data"
    }
   ],
   "source": [
    "nombre = \"Montse\"\n",
    "minn=nombre.replace?\n",
    "minn\n",
    "#(\"p\" or \"o\") in nombre"
   ]
  },
  {
   "cell_type": "code",
   "execution_count": null,
   "metadata": {},
   "outputs": [],
   "source": [
    "minn=nombre.replace"
   ]
  },
  {
   "cell_type": "code",
   "execution_count": 362,
   "metadata": {},
   "outputs": [
    {
     "data": {
      "text/plain": [
       "['montse',\n",
       " 'maria',\n",
       " 'laura',\n",
       " 'pepe',\n",
       " 'luis',\n",
       " 'gerardo',\n",
       " 'antonio',\n",
       " 'oscar',\n",
       " 'noveno',\n",
       " 'francisco']"
      ]
     },
     "execution_count": 362,
     "metadata": {},
     "output_type": "execute_result"
    }
   ],
   "source": [
    "tenNames = [\"MonTse\", \"Maria\", \"Laura\", \"Pepe\", \"Luis\", \"Gerardo\", \"Antonio\", \"Oscar\", \"Noveno\", \"Francisco\"]\n",
    "[e.lower() for e in tenNames]"
   ]
  },
  {
   "cell_type": "code",
   "execution_count": 357,
   "metadata": {},
   "outputs": [],
   "source": [
    "tenNames = [\"MonTse\", \"Maria\", \"Laura\", \"Pepe\", \"Luis\", \"Gerardo\", \"Antonio\", \"Oscar\", \"Noveno\", \"Francisco\"]\n",
    "def justLowelsUp (list):\n",
    "    listO = []\n",
    "    for element in list:\n",
    "        elementL = element.lower()\n",
    "        elementL = elementL.replace('a','A')\n",
    "        elementL = elementL.replace('e','E')\n",
    "        elementL = elementL.replace('i','I')\n",
    "        elementL = elementL.replace('o','O')\n",
    "        elementL = elementL.replace('u','U')\n",
    "        listO.append(elementL)\n",
    "        \n",
    "    return listO\n",
    "        \n",
    "        \n",
    "    "
   ]
  },
  {
   "cell_type": "code",
   "execution_count": 358,
   "metadata": {},
   "outputs": [
    {
     "data": {
      "text/plain": [
       "['mOntsE',\n",
       " 'mArIA',\n",
       " 'lAUrA',\n",
       " 'pEpE',\n",
       " 'lUIs',\n",
       " 'gErArdO',\n",
       " 'AntOnIO',\n",
       " 'OscAr',\n",
       " 'nOvEnO',\n",
       " 'frAncIscO']"
      ]
     },
     "execution_count": 358,
     "metadata": {},
     "output_type": "execute_result"
    }
   ],
   "source": [
    "justLowelsUp(tenNames)"
   ]
  },
  {
   "cell_type": "code",
   "execution_count": 372,
   "metadata": {},
   "outputs": [
    {
     "data": {
      "text/plain": [
       "-1"
      ]
     },
     "execution_count": 372,
     "metadata": {},
     "output_type": "execute_result"
    }
   ],
   "source": [
    "nombre=\"Montse\"\n",
    "nombre.find(\"p\")"
   ]
  },
  {
   "cell_type": "code",
   "execution_count": 402,
   "metadata": {},
   "outputs": [],
   "source": [
    "tenNames = [\"MonTse\", \"Maria\", \"Laura\", \"Pepe\", \"Luis\", \"Gerardo\", \"Antonio\", \"Oscar\", \"Noveno\", \"Francisco\"]\n",
    "def findCharacters (lista, character):\n",
    "    listO = [e for e in lista if (e.find(character)>=0)]    \n",
    "    listO.reverse()\n",
    "    return listO\n"
   ]
  },
  {
   "cell_type": "code",
   "execution_count": 403,
   "metadata": {},
   "outputs": [
    {
     "data": {
      "text/plain": [
       "['Maria', 'MonTse']"
      ]
     },
     "execution_count": 403,
     "metadata": {},
     "output_type": "execute_result"
    }
   ],
   "source": [
    "findCharacters(tenNames,\"M\")"
   ]
  },
  {
   "cell_type": "code",
   "execution_count": 405,
   "metadata": {},
   "outputs": [],
   "source": [
    "def longestWord (lista):\n",
    "    lengths = [len(e) for e in lista]\n",
    "    return max(lengths)\n"
   ]
  },
  {
   "cell_type": "code",
   "execution_count": 406,
   "metadata": {},
   "outputs": [
    {
     "data": {
      "text/plain": [
       "9"
      ]
     },
     "execution_count": 406,
     "metadata": {},
     "output_type": "execute_result"
    }
   ],
   "source": [
    "longestWord(tenNames)"
   ]
  },
  {
   "cell_type": "code",
   "execution_count": 407,
   "metadata": {},
   "outputs": [],
   "source": [
    "def longestWord_Bis (lista):\n",
    "    lengths = [len(e) for e in lista]\n",
    "    tupla = [lengths.append(e) for e in lista]\n",
    "    return tupla"
   ]
  },
  {
   "cell_type": "code",
   "execution_count": 408,
   "metadata": {},
   "outputs": [
    {
     "data": {
      "text/plain": [
       "[None, None, None, None, None, None, None, None, None, None]"
      ]
     },
     "execution_count": 408,
     "metadata": {},
     "output_type": "execute_result"
    }
   ],
   "source": [
    "longestWord_Bis(tenNames)"
   ]
  },
  {
   "cell_type": "markdown",
   "metadata": {},
   "source": [
    "## More exercises"
   ]
  },
  {
   "cell_type": "markdown",
   "metadata": {},
   "source": [
    "* Categorize a list of words by their first letter, meaning that the result of the operation is first letter and all the words from the input list starting with that letter. (hint: use dict)\n",
    "* Sort a collection of strings by the number of distinct letters in each string. (hint: use set and lambda)\n",
    "* Reverse word order from the input string by using for comprehension \n"
   ]
  },
  {
   "cell_type": "code",
   "execution_count": 429,
   "metadata": {},
   "outputs": [
    {
     "data": {
      "text/plain": [
       "<function list.sort>"
      ]
     },
     "execution_count": 429,
     "metadata": {},
     "output_type": "execute_result"
    }
   ],
   "source": [
    "lista = [1,b,b]\n",
    "lista.sort\n",
    "\n",
    "#dic = {'1': 'uno', '2': 'dos'}\n",
    "#dic."
   ]
  },
  {
   "cell_type": "code",
   "execution_count": 432,
   "metadata": {},
   "outputs": [],
   "source": [
    "from collections import OrderedDict\n",
    "\n",
    "def createDic(lista):\n",
    "    dic = {}\n",
    "    \n",
    "    myKeys = [e[0] for e in lista]    \n",
    "    orderedL = list(OrderedDict.fromkeys(myKeys))\n",
    "\n",
    "    dic\n",
    "    \n",
    "    return orderedL\n",
    "    "
   ]
  },
  {
   "cell_type": "code",
   "execution_count": 433,
   "metadata": {},
   "outputs": [
    {
     "data": {
      "text/plain": [
       "['M', 'L', 'P', 'G', 'A', 'O', 'N', 'F']"
      ]
     },
     "execution_count": 433,
     "metadata": {},
     "output_type": "execute_result"
    }
   ],
   "source": [
    "createDic(tenNames)"
   ]
  },
  {
   "cell_type": "code",
   "execution_count": 436,
   "metadata": {},
   "outputs": [
    {
     "data": {
      "text/plain": [
       "{'a', 'e', 'i', 'o', 'u'}"
      ]
     },
     "execution_count": 436,
     "metadata": {},
     "output_type": "execute_result"
    }
   ],
   "source": [
    "palabra = \"aeiouaaaa\"\n",
    "mySet = set(palabra)\n"
   ]
  },
  {
   "cell_type": "code",
   "execution_count": 441,
   "metadata": {},
   "outputs": [],
   "source": [
    "\n",
    "def sortByDistinctLetter (lista):\n",
    "    \n",
    "    listLetters = [len(set(w)) for w in lista]\n",
    "    listLetters.sort()\n",
    "    \n",
    "    # Diccionario de palabras\n",
    "    dic = {}\n",
    "    for word in lista:\n",
    "        k = len(set(word))\n",
    "        if k in dic.keys():\n",
    "            l = dic[k]\n",
    "            l.append(word)\n",
    "        else:\n",
    "            dic[k] = [word]\n",
    "            \n",
    "    for length in \n",
    "    \n",
    "    return dic\n",
    "\n",
    "    #list(map(lambda n:n*n, x))\n",
    "    "
   ]
  },
  {
   "cell_type": "code",
   "execution_count": 442,
   "metadata": {},
   "outputs": [
    {
     "data": {
      "text/plain": [
       "{3: ['Pepe'],\n",
       " 4: ['Maria', 'Laura', 'Luis'],\n",
       " 5: ['Antonio', 'Oscar', 'Noveno'],\n",
       " 6: ['MonTse', 'Gerardo'],\n",
       " 8: ['Francisco']}"
      ]
     },
     "execution_count": 442,
     "metadata": {},
     "output_type": "execute_result"
    }
   ],
   "source": [
    "sortByDistinctLetter(tenNames)"
   ]
  },
  {
   "cell_type": "code",
   "execution_count": 453,
   "metadata": {},
   "outputs": [
    {
     "data": {
      "text/plain": [
       "[3, 1, 2]"
      ]
     },
     "execution_count": 453,
     "metadata": {},
     "output_type": "execute_result"
    }
   ],
   "source": [
    "l = [1,2]\n",
    "l.insert(0,3)\n",
    "l"
   ]
  },
  {
   "cell_type": "code",
   "execution_count": 3,
   "metadata": {},
   "outputs": [],
   "source": [
    "def reverseText (text):\n",
    "    newList = []\n",
    "    [newList.insert(0,l) for l in text]  \n",
    "    reverseText = \"\".join(newList)\n",
    "    return reverseText"
   ]
  },
  {
   "cell_type": "code",
   "execution_count": 4,
   "metadata": {},
   "outputs": [
    {
     "data": {
      "text/plain": [
       "'dcba'"
      ]
     },
     "execution_count": 4,
     "metadata": {},
     "output_type": "execute_result"
    }
   ],
   "source": [
    "reverseText(\"abcd\")"
   ]
  },
  {
   "cell_type": "code",
   "execution_count": 5,
   "metadata": {},
   "outputs": [
    {
     "data": {
      "text/plain": [
       "'lat euq aloH'"
      ]
     },
     "execution_count": 5,
     "metadata": {},
     "output_type": "execute_result"
    }
   ],
   "source": [
    "reverseText(\"Hola que tal\")"
   ]
  },
  {
   "cell_type": "markdown",
   "metadata": {},
   "source": [
    "# Shell commands and magic in notebooks cells\n",
    "\n",
    "If we start with `!` symbol, the cell will execute shell code, no Python code"
   ]
  },
  {
   "cell_type": "code",
   "execution_count": 6,
   "metadata": {},
   "outputs": [
    {
     "name": "stdout",
     "output_type": "stream",
     "text": [
      "05_1_intro_python.ipynb\t\t\t  Untitled.ipynb\n",
      "beginners_python_cheat_sheet_pcc_all.pdf  untitled.txt\n",
      "NewNotebookForTesting.ipynb\n"
     ]
    }
   ],
   "source": [
    "!ls"
   ]
  },
  {
   "cell_type": "markdown",
   "metadata": {},
   "source": [
    "Cells accept *magic* commands, to perform some tasks. For instance, to measure the time it takes to run the cell"
   ]
  },
  {
   "cell_type": "code",
   "execution_count": 7,
   "metadata": {},
   "outputs": [
    {
     "data": {
      "application/json": {
       "cell": {
        "!": "OSMagics",
        "HTML": "Other",
        "SVG": "Other",
        "bash": "Other",
        "capture": "ExecutionMagics",
        "debug": "ExecutionMagics",
        "file": "Other",
        "html": "DisplayMagics",
        "javascript": "DisplayMagics",
        "js": "DisplayMagics",
        "latex": "DisplayMagics",
        "markdown": "DisplayMagics",
        "perl": "Other",
        "prun": "ExecutionMagics",
        "pypy": "Other",
        "python": "Other",
        "python2": "Other",
        "python3": "Other",
        "ruby": "Other",
        "script": "ScriptMagics",
        "sh": "Other",
        "svg": "DisplayMagics",
        "sx": "OSMagics",
        "system": "OSMagics",
        "time": "ExecutionMagics",
        "timeit": "ExecutionMagics",
        "writefile": "OSMagics"
       },
       "line": {
        "alias": "OSMagics",
        "alias_magic": "BasicMagics",
        "autocall": "AutoMagics",
        "automagic": "AutoMagics",
        "autosave": "KernelMagics",
        "bookmark": "OSMagics",
        "cat": "Other",
        "cd": "OSMagics",
        "clear": "KernelMagics",
        "colors": "BasicMagics",
        "config": "ConfigMagics",
        "connect_info": "KernelMagics",
        "cp": "Other",
        "debug": "ExecutionMagics",
        "dhist": "OSMagics",
        "dirs": "OSMagics",
        "doctest_mode": "BasicMagics",
        "ed": "Other",
        "edit": "KernelMagics",
        "env": "OSMagics",
        "gui": "BasicMagics",
        "hist": "Other",
        "history": "HistoryMagics",
        "killbgscripts": "ScriptMagics",
        "ldir": "Other",
        "less": "KernelMagics",
        "lf": "Other",
        "lk": "Other",
        "ll": "Other",
        "load": "CodeMagics",
        "load_ext": "ExtensionMagics",
        "loadpy": "CodeMagics",
        "logoff": "LoggingMagics",
        "logon": "LoggingMagics",
        "logstart": "LoggingMagics",
        "logstate": "LoggingMagics",
        "logstop": "LoggingMagics",
        "ls": "Other",
        "lsmagic": "BasicMagics",
        "lx": "Other",
        "macro": "ExecutionMagics",
        "magic": "BasicMagics",
        "man": "KernelMagics",
        "matplotlib": "PylabMagics",
        "mkdir": "Other",
        "more": "KernelMagics",
        "mv": "Other",
        "notebook": "BasicMagics",
        "page": "BasicMagics",
        "pastebin": "CodeMagics",
        "pdb": "ExecutionMagics",
        "pdef": "NamespaceMagics",
        "pdoc": "NamespaceMagics",
        "pfile": "NamespaceMagics",
        "pinfo": "NamespaceMagics",
        "pinfo2": "NamespaceMagics",
        "pip": "BasicMagics",
        "popd": "OSMagics",
        "pprint": "BasicMagics",
        "precision": "BasicMagics",
        "profile": "BasicMagics",
        "prun": "ExecutionMagics",
        "psearch": "NamespaceMagics",
        "psource": "NamespaceMagics",
        "pushd": "OSMagics",
        "pwd": "OSMagics",
        "pycat": "OSMagics",
        "pylab": "PylabMagics",
        "qtconsole": "KernelMagics",
        "quickref": "BasicMagics",
        "recall": "HistoryMagics",
        "rehashx": "OSMagics",
        "reload_ext": "ExtensionMagics",
        "rep": "Other",
        "rerun": "HistoryMagics",
        "reset": "NamespaceMagics",
        "reset_selective": "NamespaceMagics",
        "rm": "Other",
        "rmdir": "Other",
        "run": "ExecutionMagics",
        "save": "CodeMagics",
        "sc": "OSMagics",
        "set_env": "OSMagics",
        "store": "StoreMagics",
        "sx": "OSMagics",
        "system": "OSMagics",
        "tb": "ExecutionMagics",
        "time": "ExecutionMagics",
        "timeit": "ExecutionMagics",
        "unalias": "OSMagics",
        "unload_ext": "ExtensionMagics",
        "who": "NamespaceMagics",
        "who_ls": "NamespaceMagics",
        "whos": "NamespaceMagics",
        "xdel": "NamespaceMagics",
        "xmode": "BasicMagics"
       }
      },
      "text/plain": [
       "Available line magics:\n",
       "%alias  %alias_magic  %autocall  %automagic  %autosave  %bookmark  %cat  %cd  %clear  %colors  %config  %connect_info  %cp  %debug  %dhist  %dirs  %doctest_mode  %ed  %edit  %env  %gui  %hist  %history  %killbgscripts  %ldir  %less  %lf  %lk  %ll  %load  %load_ext  %loadpy  %logoff  %logon  %logstart  %logstate  %logstop  %ls  %lsmagic  %lx  %macro  %magic  %man  %matplotlib  %mkdir  %more  %mv  %notebook  %page  %pastebin  %pdb  %pdef  %pdoc  %pfile  %pinfo  %pinfo2  %popd  %pprint  %precision  %profile  %prun  %psearch  %psource  %pushd  %pwd  %pycat  %pylab  %qtconsole  %quickref  %recall  %rehashx  %reload_ext  %rep  %rerun  %reset  %reset_selective  %rm  %rmdir  %run  %save  %sc  %set_env  %store  %sx  %system  %tb  %time  %timeit  %unalias  %unload_ext  %who  %who_ls  %whos  %xdel  %xmode\n",
       "\n",
       "Available cell magics:\n",
       "%%!  %%HTML  %%SVG  %%bash  %%capture  %%debug  %%file  %%html  %%javascript  %%js  %%latex  %%markdown  %%perl  %%prun  %%pypy  %%python  %%python2  %%python3  %%ruby  %%script  %%sh  %%svg  %%sx  %%system  %%time  %%timeit  %%writefile\n",
       "\n",
       "Automagic is ON, % prefix IS NOT needed for line magics."
      ]
     },
     "execution_count": 7,
     "metadata": {},
     "output_type": "execute_result"
    }
   ],
   "source": [
    "%lsmagic"
   ]
  },
  {
   "cell_type": "code",
   "execution_count": 8,
   "metadata": {},
   "outputs": [
    {
     "name": "stdout",
     "output_type": "stream",
     "text": [
      "CPU times: user 16 µs, sys: 3 µs, total: 19 µs\n",
      "Wall time: 22.6 µs\n"
     ]
    },
    {
     "data": {
      "text/plain": [
       "'lat euq aloH'"
      ]
     },
     "execution_count": 8,
     "metadata": {},
     "output_type": "execute_result"
    }
   ],
   "source": [
    "%%time\n",
    "reverseText(\"Hola que tal\")"
   ]
  },
  {
   "cell_type": "code",
   "execution_count": 9,
   "metadata": {},
   "outputs": [
    {
     "name": "stdout",
     "output_type": "stream",
     "text": [
      "/home/dsc/MSS/week3\n",
      "/home/dsc/MSS/week3\n",
      "/home/dsc/MSS/week3\n",
      "/home/dsc/MSS/week3\n",
      "/home/dsc/MSS/week3\n",
      "/home/dsc/MSS/week3\n",
      "/home/dsc/MSS/week3\n",
      "/home/dsc/MSS/week3\n",
      "/home/dsc/MSS/week3\n",
      "/home/dsc/MSS/week3\n",
      "/home/dsc/MSS/week3\n",
      "/home/dsc/MSS/week3\n",
      "/home/dsc/MSS/week3\n",
      "/home/dsc/MSS/week3\n",
      "/home/dsc/MSS/week3\n",
      "/home/dsc/MSS/week3\n",
      "/home/dsc/MSS/week3\n",
      "/home/dsc/MSS/week3\n",
      "/home/dsc/MSS/week3\n",
      "/home/dsc/MSS/week3\n",
      "/home/dsc/MSS/week3\n",
      "/home/dsc/MSS/week3\n",
      "/home/dsc/MSS/week3\n",
      "/home/dsc/MSS/week3\n",
      "/home/dsc/MSS/week3\n",
      "/home/dsc/MSS/week3\n",
      "/home/dsc/MSS/week3\n",
      "/home/dsc/MSS/week3\n",
      "/home/dsc/MSS/week3\n",
      "/home/dsc/MSS/week3\n",
      "/home/dsc/MSS/week3\n",
      "/home/dsc/MSS/week3\n",
      "/home/dsc/MSS/week3\n",
      "/home/dsc/MSS/week3\n",
      "/home/dsc/MSS/week3\n",
      "/home/dsc/MSS/week3\n",
      "/home/dsc/MSS/week3\n",
      "/home/dsc/MSS/week3\n",
      "/home/dsc/MSS/week3\n",
      "/home/dsc/MSS/week3\n",
      "/home/dsc/MSS/week3\n",
      "/home/dsc/MSS/week3\n",
      "/home/dsc/MSS/week3\n",
      "/home/dsc/MSS/week3\n",
      "/home/dsc/MSS/week3\n",
      "/home/dsc/MSS/week3\n",
      "/home/dsc/MSS/week3\n",
      "/home/dsc/MSS/week3\n",
      "/home/dsc/MSS/week3\n",
      "/home/dsc/MSS/week3\n",
      "/home/dsc/MSS/week3\n",
      "/home/dsc/MSS/week3\n",
      "/home/dsc/MSS/week3\n",
      "/home/dsc/MSS/week3\n",
      "/home/dsc/MSS/week3\n",
      "/home/dsc/MSS/week3\n",
      "/home/dsc/MSS/week3\n",
      "/home/dsc/MSS/week3\n",
      "/home/dsc/MSS/week3\n",
      "/home/dsc/MSS/week3\n",
      "/home/dsc/MSS/week3\n",
      "/home/dsc/MSS/week3\n",
      "/home/dsc/MSS/week3\n",
      "/home/dsc/MSS/week3\n",
      "/home/dsc/MSS/week3\n",
      "/home/dsc/MSS/week3\n",
      "/home/dsc/MSS/week3\n",
      "/home/dsc/MSS/week3\n",
      "/home/dsc/MSS/week3\n",
      "/home/dsc/MSS/week3\n",
      "/home/dsc/MSS/week3\n",
      "/home/dsc/MSS/week3\n",
      "/home/dsc/MSS/week3\n",
      "/home/dsc/MSS/week3\n",
      "/home/dsc/MSS/week3\n",
      "/home/dsc/MSS/week3\n",
      "/home/dsc/MSS/week3\n",
      "/home/dsc/MSS/week3\n",
      "/home/dsc/MSS/week3\n",
      "/home/dsc/MSS/week3\n",
      "/home/dsc/MSS/week3\n",
      "114 ms ± 2 ms per loop (mean ± std. dev. of 7 runs, 10 loops each)\n"
     ]
    }
   ],
   "source": [
    "%timeit !pwd"
   ]
  },
  {
   "cell_type": "markdown",
   "metadata": {},
   "source": [
    "# Files\n",
    "\n",
    "We can read data from files stored in the hard drive (or in fact, from anywhere, but with Python standard, we will focus only on our hard drive).\n",
    "\n",
    "File open modes:\n",
    "\n",
    "* `r` Read-only mode\n",
    "* `w` Write-only mode. Creates a new file (deleting any file with the same name)\n",
    "* `a` Append to existing file (create it if it does not exist)\n",
    "* `r+` Read and write\n",
    "* `b` Add to mode for binary files, that is `rb` or `wb`\n",
    "\n",
    "Common functions: read, **readlines**, write, **writelines**, **close**, flush, seek, tell, closed"
   ]
  },
  {
   "cell_type": "code",
   "execution_count": null,
   "metadata": {},
   "outputs": [],
   "source": []
  },
  {
   "cell_type": "markdown",
   "metadata": {},
   "source": [
    "# Exercises\n",
    "\n",
    "* List the files in `~/Data/opentraveldata/` \n",
    "* Repeat the same for  `/home/dsc/Data/us_dot/otp` and `~/Data/us_dot/traffic/`. \n",
    "* Write a function that will take text filename and pattern as input parameters, and return the number of occurances of case insensitive pattern inside a text (similar to: grep -i –o pattern file | wc -l)\n",
    "* Open `Finn.txt` , read lines into a list.  Remove trailing white spaces from each line . Write the resulting list to the new file. How many lines does the new file have?  (hint: empty list is made with `[]` ) \n",
    "* Open `Finn.txt`, read lines into a list. Create a new version of Finn_nbl.txt with no blank lines.\n",
    "* Obtain the difference in number of lines between original Finn file and and the one without blank lines  and print the result. (with Python code)"
   ]
  },
  {
   "cell_type": "markdown",
   "metadata": {},
   "source": []
  },
  {
   "cell_type": "code",
   "execution_count": null,
   "metadata": {},
   "outputs": [],
   "source": []
  }
 ],
 "metadata": {
  "kernelspec": {
   "display_name": "Python 3",
   "language": "python",
   "name": "python3"
  },
  "language_info": {
   "codemirror_mode": {
    "name": "ipython",
    "version": 3
   },
   "file_extension": ".py",
   "mimetype": "text/x-python",
   "name": "python",
   "nbconvert_exporter": "python",
   "pygments_lexer": "ipython3",
   "version": "3.6.4"
  }
 },
 "nbformat": 4,
 "nbformat_minor": 2
}
