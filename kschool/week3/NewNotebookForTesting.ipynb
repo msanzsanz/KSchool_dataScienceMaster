{
 "cells": [
  {
   "cell_type": "code",
   "execution_count": 1,
   "metadata": {},
   "outputs": [
    {
     "data": {
      "text/plain": [
       "4"
      ]
     },
     "execution_count": 1,
     "metadata": {},
     "output_type": "execute_result"
    }
   ],
   "source": [
    "2+2"
   ]
  },
  {
   "cell_type": "code",
   "execution_count": null,
   "metadata": {},
   "outputs": [],
   "source": [
    "print \"second cell\""
   ]
  },
  {
   "cell_type": "markdown",
   "metadata": {},
   "source": [
    "> hoy no se necesita markdown\n",
    "\n",
    "\n",
    "`int`\n",
    "\n",
    "```python\n",
    "a = 2\n",
    "print(a)\n",
    "```\n",
    "\n",
    "    a=2\n",
    "    print(a)\n",
    "    \n",
    "Con las tildes bla bla bla\n",
    "\n",
    "\n",
    "```\n",
    "a = 2\n",
    "print(a)\n",
    "```\n",
    "\n",
    "Lengiaje $\\LaTeX$\n",
    "\n",
    ":+1:"
   ]
  },
  {
   "cell_type": "code",
   "execution_count": null,
   "metadata": {},
   "outputs": [],
   "source": [
    "print \"4th cell\""
   ]
  }
 ],
 "metadata": {
  "kernelspec": {
   "display_name": "Python 3",
   "language": "python",
   "name": "python3"
  },
  "language_info": {
   "codemirror_mode": {
    "name": "ipython",
    "version": 3
   },
   "file_extension": ".py",
   "mimetype": "text/x-python",
   "name": "python",
   "nbconvert_exporter": "python",
   "pygments_lexer": "ipython3",
   "version": "3.6.4"
  }
 },
 "nbformat": 4,
 "nbformat_minor": 2
}
