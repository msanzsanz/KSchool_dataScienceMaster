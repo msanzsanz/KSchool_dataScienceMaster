{
 "cells": [
  {
   "cell_type": "markdown",
   "metadata": {},
   "source": [
    "# Count the number of lines in Python for each file"
   ]
  },
  {
   "cell_type": "code",
   "execution_count": 1,
   "metadata": {},
   "outputs": [
    {
     "name": "stdout",
     "output_type": "stream",
     "text": [
      "total 996M\r\n",
      "drwxrwxr-x 2 dani dani 4,0K Jan 27 10:56 .\r\n",
      "drwxrwxr-x 5 dani dani 4,0K Mai 25 21:45 ..\r\n",
      "-rw-rw-r-- 1 dani dani 530M Jul 13  2017 bookings.csv.bz2\r\n",
      "-rw-rw-r-- 1 dani dani 5,3M Jan 22 11:47 bookings.sample.csv.bz2\r\n",
      "-rw-rw-r-- 1 dani dani 461M Jul 13  2017 searches.csv.bz2\r\n"
     ]
    }
   ],
   "source": [
    "!ls -lah ../data/Challenge/\n"
   ]
  },
  {
   "cell_type": "markdown",
   "metadata": {},
   "source": [
    "## 1) Command Line\n",
    "\n",
    "Use shell commands with the `!` notation to count the number of lines in `bookings.csv.bz2` and `searches.csv.bz2`."
   ]
  },
  {
   "cell_type": "code",
   "execution_count": 3,
   "metadata": {},
   "outputs": [
    {
     "name": "stdout",
     "output_type": "stream",
     "text": [
      "1825297 ../data/Challenge/bookings.csv.bz2\r\n"
     ]
    }
   ],
   "source": [
    "bookings_file = '../data/Challenge/bookings.csv.bz2'\n",
    "searches_file = '../data/Challenge/searches.csv.bz2'\n",
    "\n",
    "!wc -l {bookings_file}"
   ]
  },
  {
   "cell_type": "code",
   "execution_count": 11,
   "metadata": {},
   "outputs": [
    {
     "name": "stdout",
     "output_type": "stream",
     "text": [
      "10000011\n",
      "CPU times: user 2.3 s, sys: 316 ms, total: 2.62 s\n",
      "Wall time: 1min 42s\n"
     ]
    }
   ],
   "source": [
    "%%time\n",
    "\n",
    "!bzcat {bookings_file} | wc -l "
   ]
  },
  {
   "cell_type": "code",
   "execution_count": 12,
   "metadata": {},
   "outputs": [
    {
     "name": "stdout",
     "output_type": "stream",
     "text": [
      "20390198\n",
      "CPU times: user 1.77 s, sys: 220 ms, total: 1.99 s\n",
      "Wall time: 1min 25s\n"
     ]
    }
   ],
   "source": [
    "%%time\n",
    "\n",
    "!bzcat {searches_file} | wc -l "
   ]
  },
  {
   "cell_type": "markdown",
   "metadata": {},
   "source": [
    "## 2) Python:"
   ]
  },
  {
   "cell_type": "markdown",
   "metadata": {},
   "source": [
    "We have 2 options:\n",
    "\n",
    "* uncompressing the whole file, then reading from the result.\n",
    "\n",
    "* without uncompressing: better, because we don't expend as much storage or litter our HDD.\n"
   ]
  },
  {
   "cell_type": "markdown",
   "metadata": {},
   "source": [
    "#### Python without uncompressing"
   ]
  },
  {
   "cell_type": "code",
   "execution_count": 9,
   "metadata": {},
   "outputs": [
    {
     "data": {
      "text/plain": [
       "<bz2.BZ2File at 0x7f4c200117f0>"
      ]
     },
     "execution_count": 9,
     "metadata": {},
     "output_type": "execute_result"
    }
   ],
   "source": [
    "import bz2\n",
    "\n",
    "bookings = bz2.open(bookings_file)\n",
    "\n",
    "bookings"
   ]
  },
  {
   "cell_type": "code",
   "execution_count": 10,
   "metadata": {},
   "outputs": [
    {
     "name": "stdout",
     "output_type": "stream",
     "text": [
      "CPU times: user 1min 44s, sys: 116 ms, total: 1min 44s\n",
      "Wall time: 1min 44s\n"
     ]
    }
   ],
   "source": [
    "%%time\n",
    "lines = 0 \n",
    "\n",
    "for line in bookings:\n",
    "    lines += 1\n",
    "    \n",
    "lines"
   ]
  },
  {
   "cell_type": "code",
   "execution_count": 13,
   "metadata": {},
   "outputs": [
    {
     "data": {
      "text/plain": [
       "<bz2.BZ2File at 0x7f4c19124f98>"
      ]
     },
     "execution_count": 13,
     "metadata": {},
     "output_type": "execute_result"
    }
   ],
   "source": [
    "import bz2\n",
    "\n",
    "searches = bz2.open(searches_file)\n",
    "\n",
    "searches"
   ]
  },
  {
   "cell_type": "code",
   "execution_count": 14,
   "metadata": {},
   "outputs": [
    {
     "name": "stdout",
     "output_type": "stream",
     "text": [
      "CPU times: user 2min 33s, sys: 164 ms, total: 2min 33s\n",
      "Wall time: 2min 33s\n"
     ]
    }
   ],
   "source": [
    "%%time\n",
    "lines = 0 \n",
    "\n",
    "for line in searches:\n",
    "    lines += 1\n",
    "    \n",
    "lines"
   ]
  }
 ],
 "metadata": {
  "kernelspec": {
   "display_name": "Python 3",
   "language": "python",
   "name": "python3"
  },
  "language_info": {
   "codemirror_mode": {
    "name": "ipython",
    "version": 3
   },
   "file_extension": ".py",
   "mimetype": "text/x-python",
   "name": "python",
   "nbconvert_exporter": "python",
   "pygments_lexer": "ipython3",
   "version": "3.6.2"
  }
 },
 "nbformat": 4,
 "nbformat_minor": 1
}
