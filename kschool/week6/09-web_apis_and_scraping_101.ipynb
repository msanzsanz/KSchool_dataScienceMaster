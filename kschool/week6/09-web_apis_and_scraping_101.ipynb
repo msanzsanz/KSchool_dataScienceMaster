{
 "cells": [
  {
   "cell_type": "markdown",
   "metadata": {},
   "source": [
    "#  Web APIs\n",
    "\n",
    "An API, or aplication programming interface, is the way programs communicate with one another. \n",
    "\n",
    "Web APIs are the way programs communicate with one another _over the internet_\n",
    "\n",
    "[RESTful](https://en.wikipedia.org/wiki/Representational_state_transfer) APIs respect a series of design principles that make them simple to use.\n",
    "\n",
    "The basic tools we are going to use are: POST and GET requests to urls we'll specify and json objects that we'll receive as response or send as payload (in a POST command, for example)."
   ]
  },
  {
   "cell_type": "code",
   "execution_count": 40,
   "metadata": {},
   "outputs": [
    {
     "data": {
      "text/plain": [
       "b'<!DOCTYPE html>\\n<html lang=\"es\">\\n<head>\\n<meta charset=\"utf-8\">\\n<meta http-equiv=\"X-UA-Compatible\" content=\"IE=edge\"><script type=\"text/javascript\">(window.NREUM||(NREUM={})).loader_config={xpid:\"VQEDUVdSCxAIVVVUBggHVw==\"};window.NREUM||(NREUM={}),__nr_require=function(t,e,n){function r(n){if(!e[n]){var o=e[n]={exports:{}};t[n][0].call(o.exports,function(e){var o=t[n][1][e];return r(o||e)},o,o.exports)}return e[n].exports}if(\"function\"==typeof __nr_require)return __nr_require;for(var o=0;o<n.length;o++)r(n[o]);return r}({1:[function(t,e,n){function r(t){try{c.console&&console.log(t)}catch(e){}}var o,i=t(\"ee\"),a=t(20),c={};try{o=localStorage.getItem(\"__nr_flags\").split(\",\"),console&&\"function\"==typeof console.log&&(c.console=!0,o.indexOf(\"dev\")!==-1&&(c.dev=!0),o.indexOf(\"nr_dev\")!==-1&&(c.nrDev=!0))}catch(s){}c.nrDev&&i.on(\"internal-error\",function(t){r(t.stack)}),c.dev&&i.on(\"fn-err\",function(t,e,n){r(n.stack)}),c.dev&&(r(\"NR AGENT IN DEVELOPMENT MODE\"),r(\"flags: \"+a(c,function(t,e){re'"
      ]
     },
     "execution_count": 40,
     "metadata": {},
     "output_type": "execute_result"
    }
   ],
   "source": [
    "import requests\n",
    "\n",
    "response = requests.get('http://elpais.com')\n",
    "\n",
    "response.content[:1000]"
   ]
  },
  {
   "cell_type": "markdown",
   "metadata": {},
   "source": [
    "[This](http://api.open-notify.org/) is an API that returns the current position of the ISS:"
   ]
  },
  {
   "cell_type": "code",
   "execution_count": 8,
   "metadata": {},
   "outputs": [
    {
     "data": {
      "text/plain": [
       "200"
      ]
     },
     "execution_count": 8,
     "metadata": {},
     "output_type": "execute_result"
    }
   ],
   "source": [
    "r = requests.get('http://api.open-notify.org/iss-now.json')\n",
    "\n",
    "r.status_code"
   ]
  },
  {
   "cell_type": "code",
   "execution_count": 9,
   "metadata": {},
   "outputs": [
    {
     "data": {
      "text/plain": [
       "b'{\"message\": \"success\", \"timestamp\": 1527927314, \"iss_position\": {\"longitude\": \"69.2460\", \"latitude\": \"-11.0559\"}}'"
      ]
     },
     "execution_count": 9,
     "metadata": {},
     "output_type": "execute_result"
    }
   ],
   "source": [
    "r.content"
   ]
  },
  {
   "cell_type": "code",
   "execution_count": 10,
   "metadata": {},
   "outputs": [
    {
     "data": {
      "text/plain": [
       "bytes"
      ]
     },
     "execution_count": 10,
     "metadata": {},
     "output_type": "execute_result"
    }
   ],
   "source": [
    "type(r.content)"
   ]
  },
  {
   "cell_type": "markdown",
   "metadata": {},
   "source": [
    "## JSON\n",
    "\n",
    "We can convert a json-formatted string such as the one we get in the response into a Python object with the json library.\n",
    "\n",
    "JavaScript Object Notation, JSON, is text written with JavaScript object notation.\n",
    "\n",
    "JSON is widely used as a data exchange format. You convert to it when you need to make the data available externally. \n",
    "\n",
    "It's very similar to Python dict and list syntax, but with small differences. For example, True and False are written in lower case, and single quotes are not acceptable string delimiters.\n",
    "\n",
    "Top-level JSON objects are always either dictionaries or lists, within which anything can be nested as deeply as we want."
   ]
  },
  {
   "cell_type": "code",
   "execution_count": 15,
   "metadata": {},
   "outputs": [
    {
     "data": {
      "text/plain": [
       "{'iss_position': {'latitude': '-11.0559', 'longitude': '69.2460'},\n",
       " 'message': 'success',\n",
       " 'timestamp': 1527927314}"
      ]
     },
     "execution_count": 15,
     "metadata": {},
     "output_type": "execute_result"
    }
   ],
   "source": [
    "import json\n",
    "\n",
    "json.loads(r.content)"
   ]
  },
  {
   "cell_type": "code",
   "execution_count": 16,
   "metadata": {},
   "outputs": [
    {
     "data": {
      "text/plain": [
       "dict"
      ]
     },
     "execution_count": 16,
     "metadata": {},
     "output_type": "execute_result"
    }
   ],
   "source": [
    "type(json.loads(r.content))"
   ]
  },
  {
   "cell_type": "code",
   "execution_count": 18,
   "metadata": {},
   "outputs": [
    {
     "data": {
      "text/plain": [
       "list"
      ]
     },
     "execution_count": 18,
     "metadata": {},
     "output_type": "execute_result"
    }
   ],
   "source": [
    "type(json.loads('[1,2,3]'))"
   ]
  },
  {
   "cell_type": "code",
   "execution_count": 19,
   "metadata": {},
   "outputs": [
    {
     "data": {
      "text/plain": [
       "{'latitude': '-11.0559', 'longitude': '69.2460'}"
      ]
     },
     "execution_count": 19,
     "metadata": {},
     "output_type": "execute_result"
    }
   ],
   "source": [
    "json.loads(r.content)['iss_position']"
   ]
  },
  {
   "cell_type": "markdown",
   "metadata": {},
   "source": [
    "We also can go in the other direction and generate json-formatted strings from Python objects:"
   ]
  },
  {
   "cell_type": "code",
   "execution_count": 21,
   "metadata": {},
   "outputs": [
    {
     "data": {
      "text/plain": [
       "'{\"Acelgas\": false, \"Bacon\": true}'"
      ]
     },
     "execution_count": 21,
     "metadata": {},
     "output_type": "execute_result"
    }
   ],
   "source": [
    "my_dict = {'Acelgas' : False, 'Bacon' : True}\n",
    "\n",
    "json.dumps(my_dict)"
   ]
  },
  {
   "cell_type": "markdown",
   "metadata": {},
   "source": [
    "#### Exercise:\n",
    "Write a function that returns the duration of the next 5 overhead passes of the ISS for a given latitude and longitude. Use http://open-notify.org/Open-Notify-API/ISS-Pass-Times/\n",
    ". We are going to need to encode the parameters in the url as per the specification.\n",
    "\n",
    "For example, for Madrid:\n",
    "\n",
    "http://api.open-notify.org/iss-pass.json?lat=40.4&lon=-3.7"
   ]
  },
  {
   "cell_type": "code",
   "execution_count": 31,
   "metadata": {},
   "outputs": [
    {
     "data": {
      "text/plain": [
       "[466, 640, 593, 537, 590]"
      ]
     },
     "execution_count": 31,
     "metadata": {},
     "output_type": "execute_result"
    }
   ],
   "source": [
    "def next_5_durations(latitude, longitude):\n",
    "    url = 'http://api.open-notify.org/iss-pass.json?lat=%.3f&lon=%.3f' % (latitude, longitude)\n",
    "    \n",
    "    r = requests.get(url)\n",
    "    \n",
    "    data = json.loads(r.content)\n",
    "    \n",
    "    durations = [iss_pass['duration'] for iss_pass in data['response']]\n",
    "    \n",
    "    return durations\n",
    "\n",
    "next_5_durations(40.4, -3.7)"
   ]
  },
  {
   "cell_type": "markdown",
   "metadata": {},
   "source": [
    "Although we managed to get the response, more complicated sets of parameters will be a complicated and error-prone thing to encode. Thankfully, the `requests` library can do that work for us."
   ]
  },
  {
   "cell_type": "code",
   "execution_count": 36,
   "metadata": {},
   "outputs": [
    {
     "data": {
      "text/plain": [
       "{'message': 'success',\n",
       " 'request': {'altitude': 100,\n",
       "  'datetime': 1527928098,\n",
       "  'latitude': 40.4,\n",
       "  'longitude': -3.7,\n",
       "  'passes': 5},\n",
       " 'response': [{'duration': 466, 'risetime': 1527950162},\n",
       "  {'duration': 641, 'risetime': 1527955830},\n",
       "  {'duration': 593, 'risetime': 1527961661},\n",
       "  {'duration': 537, 'risetime': 1527967536},\n",
       "  {'duration': 590, 'risetime': 1527973358}]}"
      ]
     },
     "execution_count": 36,
     "metadata": {},
     "output_type": "execute_result"
    }
   ],
   "source": [
    "madrid_coords = {'lat': 40.4, 'lon' : -3.7}\n",
    "\n",
    "r = requests.get('http://api.open-notify.org/iss-pass.json', params=madrid_coords)\n",
    "\n",
    "json.loads(r.content)"
   ]
  },
  {
   "cell_type": "markdown",
   "metadata": {},
   "source": [
    "Even more complicated sets of parameters are sometimes required. When that is the case, API designers often decide to require them in json format, received via a `POST` request.\n",
    "\n",
    "For example, take a look at the [QPX api from Google](https://developers.google.com/qpx-express/v1/trips/search). In the documentation, they define the body of the request, which we will have to provide, and of the response, which they'll provide back."
   ]
  },
  {
   "cell_type": "code",
   "execution_count": 39,
   "metadata": {},
   "outputs": [
    {
     "name": "stdout",
     "output_type": "stream",
     "text": [
      "Help on function post in module requests.api:\n",
      "\n",
      "post(url, data=None, json=None, **kwargs)\n",
      "    Sends a POST request.\n",
      "    \n",
      "    :param url: URL for the new :class:`Request` object.\n",
      "    :param data: (optional) Dictionary (will be form-encoded), bytes, or file-like object to send in the body of the :class:`Request`.\n",
      "    :param json: (optional) json data to send in the body of the :class:`Request`.\n",
      "    :param \\*\\*kwargs: Optional arguments that ``request`` takes.\n",
      "    :return: :class:`Response <Response>` object\n",
      "    :rtype: requests.Response\n",
      "\n"
     ]
    }
   ],
   "source": [
    "help(requests.post)"
   ]
  },
  {
   "cell_type": "markdown",
   "metadata": {},
   "source": [
    "# Web scraping\n",
    "\n",
    "![HTML to DOM](http://www.cs.toronto.edu/~shiva/cscb07/img/dom/treeStructure.png)\n",
    "\n",
    "![DOM TREE](http://www.openbookproject.net/tutorials/getdown/css/images/lesson4/HTMLDOMTree.png)\n",
    "\n"
   ]
  },
  {
   "cell_type": "code",
   "execution_count": 41,
   "metadata": {
    "collapsed": true
   },
   "outputs": [],
   "source": [
    "from bs4 import BeautifulSoup"
   ]
  },
  {
   "cell_type": "code",
   "execution_count": 46,
   "metadata": {},
   "outputs": [
    {
     "data": {
      "text/plain": [
       "b'<!DOCTYPE html>\\n<html lang=\"en\" dir=\"ltr\" xmlns:article=\"http://ogp.me/ns/article#\" xmlns:book=\"http://ogp.me/ns/book#\" xmlns:product=\"http://ogp.me/ns/product#\" xmlns:profile=\"http://ogp.me/ns/profile#\" xmlns:video=\"http://ogp.me/ns/video#\" prefix=\"content: http://purl.org/rss/1.0/modules/content/  dc: http://purl.org/dc/terms/  foaf: http://xmlns.com/foaf/0.1/  og: http://ogp.me/ns#  rdfs: http://www.w3.org/2000/01/rdf-schema#  schema: http://schema.org/  sioc: http://rdfs.org/sioc/ns#  sioct: http://rdfs.org/sioc/types#  skos: http://www.w3.org/2004/02/skos/core#  xsd: http://www.w3.org/2001/XMLSchema# \">\\n  <head>\\n    <meta charset=\"utf-8\" /><script type=\"text/javascript\">window.NREUM||(NREUM={}),__nr_require=function(e,t,n){function r(n){if(!t[n]){var o=t[n]={exports:{}};e[n][0].call(o.exports,function(t){var o=e[n][1][t];return r(o||t)},o,o.exports)}return t[n].exports}if(\"function\"==typeof __nr_require)return __nr_require;for(var o=0;o<n.length;o++)r(n[o]);return r}({1:[function('"
      ]
     },
     "execution_count": 46,
     "metadata": {},
     "output_type": "execute_result"
    }
   ],
   "source": [
    "url = 'https://aflcio.org/what-unions-do/social-economic-justice/advocacy/legislative-alerts'\n",
    "\n",
    "r = requests.get(url)\n",
    "\n",
    "page = r.content\n",
    "\n",
    "page[:1000]"
   ]
  },
  {
   "cell_type": "code",
   "execution_count": 55,
   "metadata": {
    "collapsed": true
   },
   "outputs": [],
   "source": [
    "soup = BeautifulSoup(page, 'html5lib')"
   ]
  },
  {
   "cell_type": "code",
   "execution_count": 53,
   "metadata": {},
   "outputs": [
    {
     "name": "stdout",
     "output_type": "stream",
     "text": [
      "<!DOCTYPE html>\n",
      "<html dir=\"ltr\" lang=\"en\" prefix=\"content: http://purl.org/rss/1.0/modules/content/  dc: http://purl.org/dc/terms/  foaf: http://xmlns.com/foaf/0.1/  og: http://ogp.me/ns#  rdfs: http://www.w3.org/2000/01/rdf-schema#  schema: http://schema.org/  sioc: http://rdfs.org/sioc/ns#  sioct: http://rdfs.org/sioc/types#  skos: http://www.w3.org/2004/02/skos/core#  xsd: http://www.w3.org/2001/XMLSchema# \" xmlns:article=\"http://ogp.me/ns/article#\" xmlns:book=\"http://ogp.me/ns/book#\" xmlns:product=\"http://ogp.me/ns/product#\" xmlns:profile=\"http://ogp.me/ns/profile#\" xmlns:video=\"http://ogp.me/ns/video#\">\n",
      " <head>\n",
      "  <meta charset=\"utf-8\"/>\n",
      "  <script type=\"text/javascript\">\n",
      "   window.NREUM||(NREUM={}),__nr_require=function(e,t,n){function r(n){if(!t[n]){var o=t[n]={exports:{}};e[n][0].call(o.exports,function(t){var o=e[n][1][t];return r(o||t)},o,o.exports)}return t[n].exports}if(\"function\"==typeof __nr_require)return __nr_require;for(var o=0;o<n.length;o++)r(n[o]);return r}({1:[functi\n"
     ]
    }
   ],
   "source": [
    "print(soup.prettify()[:1000])"
   ]
  },
  {
   "cell_type": "markdown",
   "metadata": {},
   "source": [
    "We want to write a function that, when called, retrieves the legislative alerts page and returns a list of the alerts. Each alert will be represented by a dict with the items 'date' (the date of the alert in human format), 'link' (the link to the full letter), and 'title' (the title of the letter)."
   ]
  },
  {
   "cell_type": "code",
   "execution_count": 57,
   "metadata": {},
   "outputs": [
    {
     "name": "stdout",
     "output_type": "stream",
     "text": [
      ":48:51-0400\">\n",
      "                   May 9, 2018\n",
      "                  </time>\n",
      "                 </div>\n",
      "                </a>\n",
      "                <div>\n",
      "                </div>\n",
      "               </div>\n",
      "              </div>\n",
      "              <div class=\"block block-content col-12 col-lg-4\">\n",
      "               <div class=\"content-details \">\n",
      "                <a class=\"b-inner\" href=\"/about/advocacy/legislative-alerts/letter-opposing-legislation-would-cut-federal-retirement-benefits\">\n",
      "                 <div class=\"b-text\">\n",
      "                  <h5 class=\"content-type\">\n",
      "                   Legislative Alert\n",
      "                  </h5>\n",
      "                  <h2 class=\"content-title\">\n",
      "                   <span>\n",
      "                    Letter Opposing Legislation that Would Cut Federal Retirement Benefits\n",
      "                   </span>\n",
      "                  </h2>\n",
      "                  <time datetime=\"2018-05-08T17:18:08-0400\">\n",
      "                   May 8, 2018\n",
      "                  </time>\n",
      "                 </div>\n",
      "                </a>\n",
      "                <div>\n",
      "                </div>\n",
      "               </div>\n",
      "              </div>\n",
      "              <div class=\"block block-content col-12 col-lg-4\">\n",
      "               <div class=\"content-details \">\n",
      "                <a class=\n"
     ]
    }
   ],
   "source": [
    "print(soup.prettify()[28800:30000])"
   ]
  },
  {
   "cell_type": "code",
   "execution_count": 59,
   "metadata": {},
   "outputs": [
    {
     "name": "stdout",
     "output_type": "stream",
     "text": [
      "Help on method find_all in module bs4.element:\n",
      "\n",
      "find_all(name=None, attrs={}, recursive=True, text=None, limit=None, **kwargs) method of bs4.BeautifulSoup instance\n",
      "    Extracts a list of Tag objects that match the given\n",
      "    criteria.  You can specify the name of the Tag and any\n",
      "    attributes you want the Tag to have.\n",
      "    \n",
      "    The value of a key-value pair in the 'attrs' map can be a\n",
      "    string, a list of strings, a regular expression object, or a\n",
      "    callable that takes a string and returns whether or not the\n",
      "    string matches for some custom definition of 'matches'. The\n",
      "    same is true of the tag name.\n",
      "\n"
     ]
    }
   ],
   "source": [
    "help(soup.find_all)"
   ]
  },
  {
   "cell_type": "code",
   "execution_count": 61,
   "metadata": {},
   "outputs": [
    {
     "data": {
      "text/plain": [
       "bs4.element.ResultSet"
      ]
     },
     "execution_count": 61,
     "metadata": {},
     "output_type": "execute_result"
    }
   ],
   "source": [
    "type(soup.find_all('div'))"
   ]
  },
  {
   "cell_type": "code",
   "execution_count": 64,
   "metadata": {},
   "outputs": [
    {
     "data": {
      "text/plain": [
       "18"
      ]
     },
     "execution_count": 64,
     "metadata": {},
     "output_type": "execute_result"
    }
   ],
   "source": [
    "alerts = soup.find_all('div', class_='content-details')\n",
    "len(alerts)"
   ]
  },
  {
   "cell_type": "code",
   "execution_count": 68,
   "metadata": {},
   "outputs": [
    {
     "data": {
      "text/plain": [
       "<a class=\"b-inner\" href=\"/about/advocacy/legislative-alerts/letter-opposing-legislation-would-put-consumers-risk\">\n",
       "\t  <div class=\"b-text\">\n",
       "              <h5 class=\"content-type\">Legislative Alert</h5>\n",
       "        <h2 class=\"content-title\"><span>Letter Opposing Legislation That Would Put Consumers At Risk</span>\n",
       "</h2>\n",
       "              <time datetime=\"2018-05-22T10:37:18-0400\">May 22, 2018</time>\n",
       "          </div>\n",
       "\t</a>"
      ]
     },
     "execution_count": 68,
     "metadata": {},
     "output_type": "execute_result"
    }
   ],
   "source": [
    "alerts[0].find('a')"
   ]
  },
  {
   "cell_type": "code",
   "execution_count": 69,
   "metadata": {},
   "outputs": [
    {
     "data": {
      "text/plain": [
       "'\\n\\t  \\n              Legislative Alert\\n        Letter Opposing Legislation That Would Put Consumers At Risk\\n\\n              May 22, 2018\\n          \\n\\t'"
      ]
     },
     "execution_count": 69,
     "metadata": {},
     "output_type": "execute_result"
    }
   ],
   "source": [
    "alerts[0].find('a').get_text()"
   ]
  },
  {
   "cell_type": "code",
   "execution_count": 70,
   "metadata": {},
   "outputs": [
    {
     "data": {
      "text/plain": [
       "'/about/advocacy/legislative-alerts/letter-opposing-legislation-would-put-consumers-risk'"
      ]
     },
     "execution_count": 70,
     "metadata": {},
     "output_type": "execute_result"
    }
   ],
   "source": [
    "alerts[0].find('a')['href']"
   ]
  },
  {
   "cell_type": "code",
   "execution_count": 72,
   "metadata": {
    "collapsed": true
   },
   "outputs": [],
   "source": [
    "test_alert = alerts[0]"
   ]
  },
  {
   "cell_type": "code",
   "execution_count": 75,
   "metadata": {},
   "outputs": [
    {
     "data": {
      "text/plain": [
       "'https://aflcio.org/about/advocacy/legislative-alerts/letter-opposing-legislation-would-put-consumers-risk'"
      ]
     },
     "execution_count": 75,
     "metadata": {},
     "output_type": "execute_result"
    }
   ],
   "source": [
    "full_link = 'https://aflcio.org' + test_alert.find('a')['href']\n",
    "full_link"
   ]
  },
  {
   "cell_type": "code",
   "execution_count": 78,
   "metadata": {},
   "outputs": [
    {
     "data": {
      "text/plain": [
       "'Letter Opposing Legislation That Would Put Consumers At Risk'"
      ]
     },
     "execution_count": 78,
     "metadata": {},
     "output_type": "execute_result"
    }
   ],
   "source": [
    "test_alert.find('span').get_text()"
   ]
  },
  {
   "cell_type": "code",
   "execution_count": 80,
   "metadata": {},
   "outputs": [
    {
     "data": {
      "text/plain": [
       "'2018-05-22T10:37:18-0400'"
      ]
     },
     "execution_count": 80,
     "metadata": {},
     "output_type": "execute_result"
    }
   ],
   "source": [
    "test_alert.find('time')['datetime']"
   ]
  },
  {
   "cell_type": "code",
   "execution_count": 85,
   "metadata": {},
   "outputs": [
    {
     "data": {
      "text/plain": [
       "[{'date': '2018-05-22T10:37:18-0400',\n",
       "  'link': 'https://aflcio.org/about/advocacy/legislative-alerts/letter-opposing-legislation-would-put-consumers-risk',\n",
       "  'title': 'Letter Opposing Legislation That Would Put Consumers At Risk'},\n",
       " {'date': '2018-05-21T16:54:33-0400',\n",
       "  'link': 'https://aflcio.org/about/advocacy/legislative-alerts/letter-opposing-bill-would-make-it-more-difficult-americans-feed',\n",
       "  'title': 'Letter Opposing Bill That Would Make It More Difficult for Americans to Feed Their Families'},\n",
       " {'date': '2018-05-21T16:48:34-0400',\n",
       "  'link': 'https://aflcio.org/about/advocacy/legislative-alerts/letter-opposing-legislation-would-help-privatize-va',\n",
       "  'title': 'Letter Opposing Legislation That Would Help Privatize the VA'},\n",
       " {'date': '2018-05-21T16:43:40-0400',\n",
       "  'link': 'https://aflcio.org/about/advocacy/legislative-alerts/letter-opposing-michael-truncales-nomination-eastern-district',\n",
       "  'title': \"Letter Opposing Michael Truncale's Nomination to the Eastern District of Texas\"},\n",
       " {'date': '2018-05-21T16:34:44-0400',\n",
       "  'link': 'https://aflcio.org/about/advocacy/legislative-alerts/letter-support-amendment-will-protect-judicial-independence',\n",
       "  'title': 'Letter in Support of Amendment that Will Protect Judicial Independence'},\n",
       " {'date': '2018-05-09T16:48:51-0400',\n",
       "  'link': 'https://aflcio.org/about/advocacy/legislative-alerts/letter-supporting-nuclear-waste-storage-legislation',\n",
       "  'title': 'Letter Supporting Nuclear Waste Storage Legislation'},\n",
       " {'date': '2018-05-08T17:18:08-0400',\n",
       "  'link': 'https://aflcio.org/about/advocacy/legislative-alerts/letter-opposing-legislation-would-cut-federal-retirement-benefits',\n",
       "  'title': 'Letter Opposing Legislation that Would Cut Federal Retirement Benefits'},\n",
       " {'date': '2018-05-08T17:14:32-0400',\n",
       "  'link': 'https://aflcio.org/about/advocacy/legislative-alerts/letter-opposing-michael-brennans-nomination-us-court-appeals-0',\n",
       "  'title': \"Letter Opposing Michael Brennan's Nomination to the U.S. Court of Appeals\"},\n",
       " {'date': '2018-05-08T17:10:51-0400',\n",
       "  'link': 'https://aflcio.org/about/advocacy/legislative-alerts/letter-opposing-ryan-bounds-nomination-us-court-appeals',\n",
       "  'title': \"Letter Opposing Ryan Bounds' Nomination to U.S. Court of Appeals\"},\n",
       " {'date': '2018-05-02T10:32:56-0400',\n",
       "  'link': 'https://aflcio.org/about/advocacy/legislative-alerts/letter-supporting-faa-reauthorization',\n",
       "  'title': 'Letter Supporting FAA Reauthorization'},\n",
       " {'date': '2018-05-02T10:29:14-0400',\n",
       "  'link': 'https://aflcio.org/about/advocacy/legislative-alerts/letter-opposing-andrew-oldhams-nomination-us-court-appeals',\n",
       "  'title': \"Letter Opposing Andrew Oldham's Nomination to U.S. Court of Appeals\"},\n",
       " {'date': '2018-05-02T10:19:24-0400',\n",
       "  'link': 'https://aflcio.org/about/advocacy/legislative-alerts/letter-opposing-bills-would-roll-back-important-financial',\n",
       "  'title': 'Letter Opposing Bills That Would Roll Back Important Financial Regulations'},\n",
       " {'date': '2018-04-13T10:28:27-0400',\n",
       "  'link': 'https://aflcio.org/about/advocacy/legislative-alerts/letter-opposing-bill-would-deprive-workers-employed-tribal-owned',\n",
       "  'title': 'Letter Opposing a Bill That Would Deprive Workers Employed by Tribal-Owned and -Operated Enterprises Their Rights and Protections Under the NLRA'},\n",
       " {'date': '2018-04-11T11:21:34-0400',\n",
       "  'link': 'https://aflcio.org/about/advocacy/legislative-alerts/letter-opposing-balanced-budget-amendment',\n",
       "  'title': 'Letter Opposing Balanced Budget Amendment'},\n",
       " {'date': '2018-03-12T14:30:55-0400',\n",
       "  'link': 'https://aflcio.org/about/advocacy/legislative-alerts/letter-opposing-legislation-would-weaken-consumer-protections',\n",
       "  'title': 'Letter Opposing Legislation That Would Weaken Consumer Protections'},\n",
       " {'date': '2018-03-09T14:52:10-0500',\n",
       "  'link': 'https://aflcio.org/about/advocacy/legislative-alerts/letter-opposing-bill-would-codify-low-road-employment-practices',\n",
       "  'title': 'Letter Opposing Bill That Would Codify Low-Road Employment Practices on Immigration'},\n",
       " {'date': '2018-02-28T14:38:44-0500',\n",
       "  'link': 'https://aflcio.org/about/advocacy/legislative-alerts/letter-concerning-nomination-john-ring-nlrb',\n",
       "  'title': 'Letter Concerning the Nomination of John Ring to the NLRB'},\n",
       " {'date': '2018-02-14T15:01:50-0500',\n",
       "  'link': 'https://aflcio.org/about/advocacy/legislative-alerts/letter-opposing-bill-fails-protect-immigrant-families-and',\n",
       "  'title': 'Letter Opposing Bill That Fails to Protect Immigrant Families and Undermines Public Safety'}]"
      ]
     },
     "execution_count": 85,
     "metadata": {},
     "output_type": "execute_result"
    }
   ],
   "source": [
    "def aflcio_alerts():\n",
    "    \n",
    "    url = 'https://aflcio.org/what-unions-do/social-economic-justice/advocacy/legislative-alerts'\n",
    "\n",
    "    r = requests.get(url)\n",
    "    page = r.content\n",
    "    soup = BeautifulSoup(page, 'html5lib')\n",
    "    alerts = soup.find_all('div', class_='content-details')\n",
    "\n",
    "    alerts_list = []\n",
    "\n",
    "    for alert in alerts:\n",
    "        full_link = 'https://aflcio.org' + alert.find('a')['href']\n",
    "        title = alert.find('span').get_text()\n",
    "        date = alert.find('time')['datetime']\n",
    "        result = {'link' : full_link, 'title' : title, 'date' : date}\n",
    "\n",
    "        alerts_list.append(result)\n",
    "\n",
    "    return alerts_list\n",
    "\n",
    "aflcio_alerts()"
   ]
  },
  {
   "cell_type": "code",
   "execution_count": 87,
   "metadata": {},
   "outputs": [
    {
     "data": {
      "text/html": [
       "<div>\n",
       "<style>\n",
       "    .dataframe thead tr:only-child th {\n",
       "        text-align: right;\n",
       "    }\n",
       "\n",
       "    .dataframe thead th {\n",
       "        text-align: left;\n",
       "    }\n",
       "\n",
       "    .dataframe tbody tr th {\n",
       "        vertical-align: top;\n",
       "    }\n",
       "</style>\n",
       "<table border=\"1\" class=\"dataframe\">\n",
       "  <thead>\n",
       "    <tr style=\"text-align: right;\">\n",
       "      <th></th>\n",
       "      <th>date</th>\n",
       "      <th>link</th>\n",
       "      <th>title</th>\n",
       "    </tr>\n",
       "  </thead>\n",
       "  <tbody>\n",
       "    <tr>\n",
       "      <th>0</th>\n",
       "      <td>2018-05-22T10:37:18-0400</td>\n",
       "      <td>https://aflcio.org/about/advocacy/legislative-...</td>\n",
       "      <td>Letter Opposing Legislation That Would Put Con...</td>\n",
       "    </tr>\n",
       "    <tr>\n",
       "      <th>1</th>\n",
       "      <td>2018-05-21T16:54:33-0400</td>\n",
       "      <td>https://aflcio.org/about/advocacy/legislative-...</td>\n",
       "      <td>Letter Opposing Bill That Would Make It More D...</td>\n",
       "    </tr>\n",
       "    <tr>\n",
       "      <th>2</th>\n",
       "      <td>2018-05-21T16:48:34-0400</td>\n",
       "      <td>https://aflcio.org/about/advocacy/legislative-...</td>\n",
       "      <td>Letter Opposing Legislation That Would Help Pr...</td>\n",
       "    </tr>\n",
       "    <tr>\n",
       "      <th>3</th>\n",
       "      <td>2018-05-21T16:43:40-0400</td>\n",
       "      <td>https://aflcio.org/about/advocacy/legislative-...</td>\n",
       "      <td>Letter Opposing Michael Truncale's Nomination ...</td>\n",
       "    </tr>\n",
       "    <tr>\n",
       "      <th>4</th>\n",
       "      <td>2018-05-21T16:34:44-0400</td>\n",
       "      <td>https://aflcio.org/about/advocacy/legislative-...</td>\n",
       "      <td>Letter in Support of Amendment that Will Prote...</td>\n",
       "    </tr>\n",
       "  </tbody>\n",
       "</table>\n",
       "</div>"
      ],
      "text/plain": [
       "                       date  \\\n",
       "0  2018-05-22T10:37:18-0400   \n",
       "1  2018-05-21T16:54:33-0400   \n",
       "2  2018-05-21T16:48:34-0400   \n",
       "3  2018-05-21T16:43:40-0400   \n",
       "4  2018-05-21T16:34:44-0400   \n",
       "\n",
       "                                                link  \\\n",
       "0  https://aflcio.org/about/advocacy/legislative-...   \n",
       "1  https://aflcio.org/about/advocacy/legislative-...   \n",
       "2  https://aflcio.org/about/advocacy/legislative-...   \n",
       "3  https://aflcio.org/about/advocacy/legislative-...   \n",
       "4  https://aflcio.org/about/advocacy/legislative-...   \n",
       "\n",
       "                                               title  \n",
       "0  Letter Opposing Legislation That Would Put Con...  \n",
       "1  Letter Opposing Bill That Would Make It More D...  \n",
       "2  Letter Opposing Legislation That Would Help Pr...  \n",
       "3  Letter Opposing Michael Truncale's Nomination ...  \n",
       "4  Letter in Support of Amendment that Will Prote...  "
      ]
     },
     "execution_count": 87,
     "metadata": {},
     "output_type": "execute_result"
    }
   ],
   "source": [
    "import pandas as pd\n",
    "\n",
    "df = pd.DataFrame(aflcio_alerts())\n",
    "df.head()"
   ]
  },
  {
   "cell_type": "code",
   "execution_count": 88,
   "metadata": {
    "collapsed": true
   },
   "outputs": [],
   "source": [
    "df['date'] = pd.to_datetime(df['date'])"
   ]
  },
  {
   "cell_type": "code",
   "execution_count": 89,
   "metadata": {},
   "outputs": [
    {
     "data": {
      "text/html": [
       "<div>\n",
       "<style>\n",
       "    .dataframe thead tr:only-child th {\n",
       "        text-align: right;\n",
       "    }\n",
       "\n",
       "    .dataframe thead th {\n",
       "        text-align: left;\n",
       "    }\n",
       "\n",
       "    .dataframe tbody tr th {\n",
       "        vertical-align: top;\n",
       "    }\n",
       "</style>\n",
       "<table border=\"1\" class=\"dataframe\">\n",
       "  <thead>\n",
       "    <tr style=\"text-align: right;\">\n",
       "      <th></th>\n",
       "      <th>date</th>\n",
       "      <th>link</th>\n",
       "      <th>title</th>\n",
       "    </tr>\n",
       "  </thead>\n",
       "  <tbody>\n",
       "    <tr>\n",
       "      <th>0</th>\n",
       "      <td>2018-05-22 14:37:18</td>\n",
       "      <td>https://aflcio.org/about/advocacy/legislative-...</td>\n",
       "      <td>Letter Opposing Legislation That Would Put Con...</td>\n",
       "    </tr>\n",
       "    <tr>\n",
       "      <th>1</th>\n",
       "      <td>2018-05-21 20:54:33</td>\n",
       "      <td>https://aflcio.org/about/advocacy/legislative-...</td>\n",
       "      <td>Letter Opposing Bill That Would Make It More D...</td>\n",
       "    </tr>\n",
       "    <tr>\n",
       "      <th>2</th>\n",
       "      <td>2018-05-21 20:48:34</td>\n",
       "      <td>https://aflcio.org/about/advocacy/legislative-...</td>\n",
       "      <td>Letter Opposing Legislation That Would Help Pr...</td>\n",
       "    </tr>\n",
       "    <tr>\n",
       "      <th>3</th>\n",
       "      <td>2018-05-21 20:43:40</td>\n",
       "      <td>https://aflcio.org/about/advocacy/legislative-...</td>\n",
       "      <td>Letter Opposing Michael Truncale's Nomination ...</td>\n",
       "    </tr>\n",
       "    <tr>\n",
       "      <th>4</th>\n",
       "      <td>2018-05-21 20:34:44</td>\n",
       "      <td>https://aflcio.org/about/advocacy/legislative-...</td>\n",
       "      <td>Letter in Support of Amendment that Will Prote...</td>\n",
       "    </tr>\n",
       "  </tbody>\n",
       "</table>\n",
       "</div>"
      ],
      "text/plain": [
       "                 date                                               link  \\\n",
       "0 2018-05-22 14:37:18  https://aflcio.org/about/advocacy/legislative-...   \n",
       "1 2018-05-21 20:54:33  https://aflcio.org/about/advocacy/legislative-...   \n",
       "2 2018-05-21 20:48:34  https://aflcio.org/about/advocacy/legislative-...   \n",
       "3 2018-05-21 20:43:40  https://aflcio.org/about/advocacy/legislative-...   \n",
       "4 2018-05-21 20:34:44  https://aflcio.org/about/advocacy/legislative-...   \n",
       "\n",
       "                                               title  \n",
       "0  Letter Opposing Legislation That Would Put Con...  \n",
       "1  Letter Opposing Bill That Would Make It More D...  \n",
       "2  Letter Opposing Legislation That Would Help Pr...  \n",
       "3  Letter Opposing Michael Truncale's Nomination ...  \n",
       "4  Letter in Support of Amendment that Will Prote...  "
      ]
     },
     "execution_count": 89,
     "metadata": {},
     "output_type": "execute_result"
    }
   ],
   "source": [
    "df.head()"
   ]
  },
  {
   "cell_type": "code",
   "execution_count": 90,
   "metadata": {},
   "outputs": [
    {
     "data": {
      "text/plain": [
       "'[{\"link\": \"https://aflcio.org/about/advocacy/legislative-alerts/letter-opposing-legislation-would-put-consumers-risk\", \"title\": \"Letter Opposing Legislation That Would Put Consumers At Risk\", \"date\": \"2018-05-22T10:37:18-0400\"}, {\"link\": \"https://aflcio.org/about/advocacy/legislative-alerts/letter-opposing-bill-would-make-it-more-difficult-americans-feed\", \"title\": \"Letter Opposing Bill That Would Make It More Difficult for Americans to Feed Their Families\", \"date\": \"2018-05-21T16:54:33-0400\"}, {\"link\": \"https://aflcio.org/about/advocacy/legislative-alerts/letter-opposing-legislation-would-help-privatize-va\", \"title\": \"Letter Opposing Legislation That Would Help Privatize the VA\", \"date\": \"2018-05-21T16:48:34-0400\"}, {\"link\": \"https://aflcio.org/about/advocacy/legislative-alerts/letter-opposing-michael-truncales-nomination-eastern-district\", \"title\": \"Letter Opposing Michael Truncale\\'s Nomination to the Eastern District of Texas\", \"date\": \"2018-05-21T16:43:40-0400\"}, {\"link\": \"https://aflcio.org/about/advocacy/legislative-alerts/letter-support-amendment-will-protect-judicial-independence\", \"title\": \"Letter in Support of Amendment that Will Protect Judicial Independence\", \"date\": \"2018-05-21T16:34:44-0400\"}, {\"link\": \"https://aflcio.org/about/advocacy/legislative-alerts/letter-supporting-nuclear-waste-storage-legislation\", \"title\": \"Letter Supporting Nuclear Waste Storage Legislation\", \"date\": \"2018-05-09T16:48:51-0400\"}, {\"link\": \"https://aflcio.org/about/advocacy/legislative-alerts/letter-opposing-legislation-would-cut-federal-retirement-benefits\", \"title\": \"Letter Opposing Legislation that Would Cut Federal Retirement Benefits\", \"date\": \"2018-05-08T17:18:08-0400\"}, {\"link\": \"https://aflcio.org/about/advocacy/legislative-alerts/letter-opposing-michael-brennans-nomination-us-court-appeals-0\", \"title\": \"Letter Opposing Michael Brennan\\'s Nomination to the U.S. Court of Appeals\", \"date\": \"2018-05-08T17:14:32-0400\"}, {\"link\": \"https://aflcio.org/about/advocacy/legislative-alerts/letter-opposing-ryan-bounds-nomination-us-court-appeals\", \"title\": \"Letter Opposing Ryan Bounds\\' Nomination to U.S. Court of Appeals\", \"date\": \"2018-05-08T17:10:51-0400\"}, {\"link\": \"https://aflcio.org/about/advocacy/legislative-alerts/letter-supporting-faa-reauthorization\", \"title\": \"Letter Supporting FAA Reauthorization\", \"date\": \"2018-05-02T10:32:56-0400\"}, {\"link\": \"https://aflcio.org/about/advocacy/legislative-alerts/letter-opposing-andrew-oldhams-nomination-us-court-appeals\", \"title\": \"Letter Opposing Andrew Oldham\\'s Nomination to U.S. Court of Appeals\", \"date\": \"2018-05-02T10:29:14-0400\"}, {\"link\": \"https://aflcio.org/about/advocacy/legislative-alerts/letter-opposing-bills-would-roll-back-important-financial\", \"title\": \"Letter Opposing Bills That Would Roll Back Important Financial Regulations\", \"date\": \"2018-05-02T10:19:24-0400\"}, {\"link\": \"https://aflcio.org/about/advocacy/legislative-alerts/letter-opposing-bill-would-deprive-workers-employed-tribal-owned\", \"title\": \"Letter Opposing a Bill That Would Deprive Workers Employed by Tribal-Owned and -Operated Enterprises Their Rights and Protections Under the NLRA\", \"date\": \"2018-04-13T10:28:27-0400\"}, {\"link\": \"https://aflcio.org/about/advocacy/legislative-alerts/letter-opposing-balanced-budget-amendment\", \"title\": \"Letter Opposing Balanced Budget Amendment\", \"date\": \"2018-04-11T11:21:34-0400\"}, {\"link\": \"https://aflcio.org/about/advocacy/legislative-alerts/letter-opposing-legislation-would-weaken-consumer-protections\", \"title\": \"Letter Opposing Legislation That Would Weaken Consumer Protections\", \"date\": \"2018-03-12T14:30:55-0400\"}, {\"link\": \"https://aflcio.org/about/advocacy/legislative-alerts/letter-opposing-bill-would-codify-low-road-employment-practices\", \"title\": \"Letter Opposing Bill That Would Codify Low-Road Employment Practices on Immigration\", \"date\": \"2018-03-09T14:52:10-0500\"}, {\"link\": \"https://aflcio.org/about/advocacy/legislative-alerts/letter-concerning-nomination-john-ring-nlrb\", \"title\": \"Letter Concerning the Nomination of John Ring to the NLRB\", \"date\": \"2018-02-28T14:38:44-0500\"}, {\"link\": \"https://aflcio.org/about/advocacy/legislative-alerts/letter-opposing-bill-fails-protect-immigrant-families-and\", \"title\": \"Letter Opposing Bill That Fails to Protect Immigrant Families and Undermines Public Safety\", \"date\": \"2018-02-14T15:01:50-0500\"}]'"
      ]
     },
     "execution_count": 90,
     "metadata": {},
     "output_type": "execute_result"
    }
   ],
   "source": [
    "json.dumps(aflcio_alerts())"
   ]
  },
  {
   "cell_type": "markdown",
   "metadata": {},
   "source": [
    "# Ultra easy scraping with pandas\n",
    "\n",
    "When the data we want is already formatted as a table, we can do it even more easily! Just use `pandas.read_html`:"
   ]
  },
  {
   "cell_type": "code",
   "execution_count": 97,
   "metadata": {},
   "outputs": [
    {
     "data": {
      "text/plain": [
       "list"
      ]
     },
     "execution_count": 97,
     "metadata": {},
     "output_type": "execute_result"
    }
   ],
   "source": [
    "tables = pd.read_html('https://en.wikipedia.org/wiki/List_of_accidents_and_disasters_by_death_toll',\n",
    "                      header=0)\n",
    "\n",
    "type(tables)"
   ]
  },
  {
   "cell_type": "code",
   "execution_count": 99,
   "metadata": {},
   "outputs": [
    {
     "data": {
      "text/html": [
       "<div>\n",
       "<style>\n",
       "    .dataframe thead tr:only-child th {\n",
       "        text-align: right;\n",
       "    }\n",
       "\n",
       "    .dataframe thead th {\n",
       "        text-align: left;\n",
       "    }\n",
       "\n",
       "    .dataframe tbody tr th {\n",
       "        vertical-align: top;\n",
       "    }\n",
       "</style>\n",
       "<table border=\"1\" class=\"dataframe\">\n",
       "  <thead>\n",
       "    <tr style=\"text-align: right;\">\n",
       "      <th></th>\n",
       "      <th>Deaths</th>\n",
       "      <th>Date</th>\n",
       "      <th>Incident</th>\n",
       "      <th>Location</th>\n",
       "    </tr>\n",
       "  </thead>\n",
       "  <tbody>\n",
       "    <tr>\n",
       "      <th>0</th>\n",
       "      <td>583</td>\n",
       "      <td>27 March 1977</td>\n",
       "      <td>Pan Am Flight 1736 and KLM Flight 4805</td>\n",
       "      <td>Tenerife, Canary Islands, Spain</td>\n",
       "    </tr>\n",
       "    <tr>\n",
       "      <th>1</th>\n",
       "      <td>520</td>\n",
       "      <td>12 August 1985</td>\n",
       "      <td>Japan Airlines Flight 123</td>\n",
       "      <td>Ueno, Japan</td>\n",
       "    </tr>\n",
       "    <tr>\n",
       "      <th>2</th>\n",
       "      <td>349</td>\n",
       "      <td>12 November 1996</td>\n",
       "      <td>Saudi Arabian Flight 763 and Kazakhstan Airlin...</td>\n",
       "      <td>Charkhi Dadri, Haryana, India</td>\n",
       "    </tr>\n",
       "    <tr>\n",
       "      <th>3</th>\n",
       "      <td>346</td>\n",
       "      <td>3 March 1974</td>\n",
       "      <td>Turkish Airlines Flight 981</td>\n",
       "      <td>Fontaine-Chaalis, France</td>\n",
       "    </tr>\n",
       "    <tr>\n",
       "      <th>4</th>\n",
       "      <td>301</td>\n",
       "      <td>19 August 1980</td>\n",
       "      <td>Saudia Flight 163</td>\n",
       "      <td>Riyadh, Saudi Arabia</td>\n",
       "    </tr>\n",
       "    <tr>\n",
       "      <th>5</th>\n",
       "      <td>275</td>\n",
       "      <td>19 February 2003</td>\n",
       "      <td>2003 Iran Ilyushin Il-76 crash</td>\n",
       "      <td>Kerman, Iran</td>\n",
       "    </tr>\n",
       "    <tr>\n",
       "      <th>6</th>\n",
       "      <td>273</td>\n",
       "      <td>25 May 1979</td>\n",
       "      <td>American Airlines Flight 191</td>\n",
       "      <td>Des Plaines, Illinois, United States</td>\n",
       "    </tr>\n",
       "    <tr>\n",
       "      <th>7</th>\n",
       "      <td>265</td>\n",
       "      <td>12 November 2001</td>\n",
       "      <td>American Airlines Flight 587</td>\n",
       "      <td>Queens, New York, United States</td>\n",
       "    </tr>\n",
       "    <tr>\n",
       "      <th>8</th>\n",
       "      <td>264</td>\n",
       "      <td>26 April 1994</td>\n",
       "      <td>China Airlines Flight 140</td>\n",
       "      <td>Japan-KomakiKomaki, Japan</td>\n",
       "    </tr>\n",
       "    <tr>\n",
       "      <th>9</th>\n",
       "      <td>261</td>\n",
       "      <td>11 July 1991</td>\n",
       "      <td>Nigeria Airways Flight 2120</td>\n",
       "      <td>Saudi Arabia-JeddahJeddah, Saudi Arabia</td>\n",
       "    </tr>\n",
       "  </tbody>\n",
       "</table>\n",
       "</div>"
      ],
      "text/plain": [
       "   Deaths              Date  \\\n",
       "0     583     27 March 1977   \n",
       "1     520    12 August 1985   \n",
       "2     349  12 November 1996   \n",
       "3     346      3 March 1974   \n",
       "4     301    19 August 1980   \n",
       "5     275  19 February 2003   \n",
       "6     273       25 May 1979   \n",
       "7     265  12 November 2001   \n",
       "8     264     26 April 1994   \n",
       "9     261      11 July 1991   \n",
       "\n",
       "                                            Incident  \\\n",
       "0             Pan Am Flight 1736 and KLM Flight 4805   \n",
       "1                          Japan Airlines Flight 123   \n",
       "2  Saudi Arabian Flight 763 and Kazakhstan Airlin...   \n",
       "3                        Turkish Airlines Flight 981   \n",
       "4                                  Saudia Flight 163   \n",
       "5                     2003 Iran Ilyushin Il-76 crash   \n",
       "6                       American Airlines Flight 191   \n",
       "7                       American Airlines Flight 587   \n",
       "8                          China Airlines Flight 140   \n",
       "9                        Nigeria Airways Flight 2120   \n",
       "\n",
       "                                  Location  \n",
       "0          Tenerife, Canary Islands, Spain  \n",
       "1                              Ueno, Japan  \n",
       "2            Charkhi Dadri, Haryana, India  \n",
       "3                 Fontaine-Chaalis, France  \n",
       "4                     Riyadh, Saudi Arabia  \n",
       "5                             Kerman, Iran  \n",
       "6     Des Plaines, Illinois, United States  \n",
       "7          Queens, New York, United States  \n",
       "8                Japan-KomakiKomaki, Japan  \n",
       "9  Saudi Arabia-JeddahJeddah, Saudi Arabia  "
      ]
     },
     "execution_count": 99,
     "metadata": {},
     "output_type": "execute_result"
    }
   ],
   "source": [
    "tables[2]"
   ]
  },
  {
   "cell_type": "markdown",
   "metadata": {},
   "source": [
    "# Building web services with Flask\n",
    "\n",
    "[Flask](http://flask.pocoo.org/docs/1.0/) is a framework for building web applications.\n",
    "\n",
    "Building a simple Web Service is extremely easy: you just create an app, define a function that generates the result and tie it to a route, and run the app.\n",
    "\n"
   ]
  },
  {
   "cell_type": "code",
   "execution_count": 103,
   "metadata": {
    "collapsed": true
   },
   "outputs": [],
   "source": [
    "from flask import Flask\n",
    "from werkzeug.serving import run_simple\n",
    "\n",
    "app = Flask('My first web service!')\n",
    "\n",
    "@app.route('/saludamajo')\n",
    "def hello_world():\n",
    "    return 'Holi!'"
   ]
  },
  {
   "cell_type": "code",
   "execution_count": 106,
   "metadata": {},
   "outputs": [
    {
     "name": "stderr",
     "output_type": "stream",
     "text": [
      " * Running on http://localhost:5000/ (Press CTRL+C to quit)\n",
      "127.0.0.1 - - [02/Jun/2018 13:10:54] \"GET /saludamajo HTTP/1.1\" 200 -\n",
      "127.0.0.1 - - [02/Jun/2018 13:10:55] \"GET /favicon.ico HTTP/1.1\" 404 -\n"
     ]
    }
   ],
   "source": [
    "run_simple('localhost', 5000, app)"
   ]
  },
  {
   "cell_type": "code",
   "execution_count": 125,
   "metadata": {},
   "outputs": [
    {
     "name": "stderr",
     "output_type": "stream",
     "text": [
      " * Running on http://localhost:5000/ (Press CTRL+C to quit)\n",
      "127.0.0.1 - - [02/Jun/2018 13:29:00] \"GET /aritmetica?n=5 HTTP/1.1\" 404 -\n",
      "127.0.0.1 - - [02/Jun/2018 13:29:07] \"GET /latest-alerts HTTP/1.1\" 200 -\n",
      "127.0.0.1 - - [02/Jun/2018 13:29:21] \"GET /latest-alerts HTTP/1.1\" 200 -\n",
      "127.0.0.1 - - [02/Jun/2018 13:29:38] \"GET /latest-alerts HTTP/1.1\" 200 -\n"
     ]
    }
   ],
   "source": [
    "app = Flask('union-alerts')\n",
    "\n",
    "@app.route('/latest-alerts')\n",
    "def aflcio_alerts():\n",
    "    \n",
    "    url = 'https://aflcio.org/what-unions-do/social-economic-justice/advocacy/legislative-alerts'\n",
    "\n",
    "    r = requests.get(url)\n",
    "    page = r.content\n",
    "    soup = BeautifulSoup(page, 'html5lib')\n",
    "    alerts = soup.find_all('div', class_='content-details')\n",
    "\n",
    "    alerts_list = []\n",
    "\n",
    "    for alert in alerts:\n",
    "        full_link = 'https://aflcio.org' + alert.find('a')['href']\n",
    "        title = alert.find('span').get_text()\n",
    "        date = alert.find('time')['datetime']\n",
    "        result = {'link' : full_link, 'title' : title, 'date' : date}\n",
    "\n",
    "        alerts_list.append(result)\n",
    "\n",
    "    return json.dumps(alerts_list)\n",
    "\n",
    "run_simple('localhost', 5000, app)"
   ]
  },
  {
   "cell_type": "markdown",
   "metadata": {},
   "source": [
    "Accepting request parameters is easy too:"
   ]
  },
  {
   "cell_type": "code",
   "execution_count": 123,
   "metadata": {},
   "outputs": [
    {
     "name": "stderr",
     "output_type": "stream",
     "text": [
      " * Running on http://localhost:5000/ (Press CTRL+C to quit)\n",
      "127.0.0.1 - - [02/Jun/2018 13:26:14] \"GET /aritmetica?n=5 HTTP/1.1\" 200 -\n"
     ]
    }
   ],
   "source": [
    "from flask import request\n",
    "\n",
    "app = Flask('My first web service!')\n",
    "\n",
    "@app.route('/aritmetica', methods=['GET'])\n",
    "def hello_world():\n",
    "    n = int(request.args.get('n'))\n",
    "    return '%d al cuadrado es %d, o es que no lo sabias pringao?' % (n, n ** 2)\n",
    "\n",
    "run_simple('localhost', 5000, app)"
   ]
  },
  {
   "cell_type": "code",
   "execution_count": null,
   "metadata": {
    "collapsed": true
   },
   "outputs": [],
   "source": []
  },
  {
   "cell_type": "markdown",
   "metadata": {},
   "source": [
    "# Annex II: exercises"
   ]
  },
  {
   "cell_type": "markdown",
   "metadata": {},
   "source": [
    "#### Exercise:\n",
    "\n",
    "Get a random fact from the [Internet Chuck Norris Database](http://www.icndb.com/api/)."
   ]
  },
  {
   "cell_type": "code",
   "execution_count": null,
   "metadata": {
    "collapsed": true
   },
   "outputs": [],
   "source": []
  },
  {
   "cell_type": "markdown",
   "metadata": {},
   "source": [
    "#### Exercise\n",
    "\n",
    "Write a function that uses query parameters to get a Chuck Norris fact to talk about you."
   ]
  },
  {
   "cell_type": "code",
   "execution_count": null,
   "metadata": {
    "collapsed": true
   },
   "outputs": [],
   "source": []
  },
  {
   "cell_type": "markdown",
   "metadata": {},
   "source": [
    "#### Exercise:\n",
    "\n",
    "Extract the date of the worst aviation disaster from: https://en.wikipedia.org/wiki/List_of_accidents_and_disasters_by_death_toll\n",
    "\n",
    "Prerequisites: pandas, pd.read_html"
   ]
  },
  {
   "cell_type": "code",
   "execution_count": null,
   "metadata": {
    "collapsed": true
   },
   "outputs": [],
   "source": []
  },
  {
   "cell_type": "markdown",
   "metadata": {},
   "source": [
    "#### Exercise: \n",
    "\n",
    "Assuming the list is exhaustive, calculate how many people died in accidental explosions per decade in the XX century. Plot it.\n",
    "\n",
    "Data: \n",
    "https://en.wikipedia.org/wiki/List_of_accidents_and_disasters_by_death_toll\n",
    "\n",
    "Prerequisites: pandas, pd.read_html, pd.to_datetime, matplotlib or seaborn"
   ]
  },
  {
   "cell_type": "code",
   "execution_count": null,
   "metadata": {
    "collapsed": true
   },
   "outputs": [],
   "source": []
  },
  {
   "cell_type": "markdown",
   "metadata": {},
   "source": [
    "#### Exercise\n",
    "\n",
    "Build a small Flask app that serves the total number of deaths by accidental explosion and  a list of accidents when given a decade in the 20th century as a parameter."
   ]
  },
  {
   "cell_type": "code",
   "execution_count": null,
   "metadata": {
    "collapsed": true
   },
   "outputs": [],
   "source": []
  },
  {
   "cell_type": "markdown",
   "metadata": {},
   "source": [
    "#### Exercise: \n",
    "\n",
    "create a function that, given the two tables extracted from http://en.wikipedia.org/wiki/List_of_S%26P_500_companies and a date, returns the list of companies in the S&P 500 at that date."
   ]
  },
  {
   "cell_type": "code",
   "execution_count": null,
   "metadata": {
    "collapsed": true
   },
   "outputs": [],
   "source": []
  }
 ],
 "metadata": {
  "kernelspec": {
   "display_name": "Python 3",
   "language": "python",
   "name": "python3"
  },
  "language_info": {
   "codemirror_mode": {
    "name": "ipython",
    "version": 3
   },
   "file_extension": ".py",
   "mimetype": "text/x-python",
   "name": "python",
   "nbconvert_exporter": "python",
   "pygments_lexer": "ipython3",
   "version": "3.6.2"
  }
 },
 "nbformat": 4,
 "nbformat_minor": 1
}
